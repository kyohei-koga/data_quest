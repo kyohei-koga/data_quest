{
 "cells": [
  {
   "cell_type": "markdown",
   "metadata": {
    "collapsed": false
   },
   "source": [
    "%matplotlib inline\n",
    "import pandas as pd\n",
    "column_names = [\"name\",\"landmass\",\"zone\",\"area\",\"population\",\"language\",\"relegion\",\"bars\",\"stripes\",\"colpurs\",\"red\",\n",
    "               \"green\",\"blue\",\"gold\",\"white\",\"black\",\"orange\",\"mainhue\",\"circles\",\"crosses\",\"saltires\",\"quarters\",\n",
    "               \"sunstars\",\"crescent\",\"triangle\",\"icon\",\"animate\",\"text\",\"topleft\",\"botright\"]\n",
    "\n",
    "flags = pd.read_csv(\"flag.data\",header=None,names=column_names)"
   ]
  },
  {
   "cell_type": "markdown",
   "metadata": {},
   "source": [
    "# Calculating probability\n",
    "Probability can roughly be described as \"the percentage chance of an event or sequence of events occuring\".\n",
    "We could compute the probability of a country flag having a certain characteristic by dividing how many flags have that characteristic by the total number of flags."
   ]
  },
  {
   "cell_type": "code",
   "execution_count": 7,
   "metadata": {
    "collapsed": false
   },
   "outputs": [
    {
     "data": {
      "text/plain": [
       "0.13402061855670103"
      ]
     },
     "execution_count": 7,
     "metadata": {},
     "output_type": "execute_result"
    }
   ],
   "source": [
    "total_countries = flags.shape[0]\n",
    "orange_probability = flags[flags[\"orange\"]==1].shape[0] / float(total_countries)\n",
    "orange_probability"
   ]
  },
  {
   "cell_type": "markdown",
   "metadata": {},
   "source": [
    "# Conjunctive probabilities\n",
    "But let's say we have a coin that we flip 5 times, and we want to find the probability that it will come up heads every time. This is called a conjunctive probability, because it involves a sequence of events. "
   ]
  },
  {
   "cell_type": "markdown",
   "metadata": {},
   "source": [
    "# Dependent probabilities\n",
    "Let's say that we're picking countries from the sample, and removing them when we pick. Each time we pick a country, we reduce the sample size for the next pick. The events are dependent -- the number of countries available to pick depends on the previous pick. We can't just calculate the probability upfront and take a power in this case \n",
    "Let's simplify the example a bit by saying that we're eating some M&Ms. There are 10 M&Ms left in the bag: 5 are green, and 5 are blue. What are the odds of getting 3 blue candies in a row? The probability of getting the first blue candy is 5/10, or 1/2. When we pick a blue candy, though, we remove it from the bag, so the probability of getting another is 4/9. The probability of picking a third blue candy is 3/8. This means our final probability is 1/2 * 4/9 * 3/8, or .0833. So, there is an 8.3% chance of picking three blue candies in a row."
   ]
  },
  {
   "cell_type": "code",
   "execution_count": 10,
   "metadata": {
    "collapsed": false
   },
   "outputs": [
    {
     "name": "stdout",
     "output_type": "stream",
     "text": [
      "0.788659793814 0.621120666631 0.488485524278\n"
     ]
    }
   ],
   "source": [
    "total_count = flags.shape[0]\n",
    "red_count = flags[flags[\"red\"] == 1].shape[0]\n",
    "one_red = red_count / float(total_count)\n",
    "two_red = one_red * ((red_count -1 ) / float(total_count - 1))\n",
    "three_red = two_red * ((red_count -2) / float(total_count - 2))\n",
    "print one_red,two_red,three_red"
   ]
  },
  {
   "cell_type": "markdown",
   "metadata": {},
   "source": [
    "# Disjunctive probability\n",
    "What if we want to know the probability of rolling a 2 or the probability of rolling a three? We actually can just add the probabilities, because both events are independent. Rolling a 2 doesn't change my odds of rolling a three next time around. Thus, the probability is 1/6 + 1/6, or 1/3."
   ]
  },
  {
   "cell_type": "markdown",
   "metadata": {},
   "source": [
    "# Disjunctive dependent probabilities\n",
    "But, let's think about a slightly more complex case with dependencies. What if we have a set of 10 cars -- 5 are red and 5 are blue. 5 of the 10 are convertibles, and 5 are sport utility vehicles. \n",
    "If we wanted to find cars that were red or were convertibles, we might try to add the probability of the car being red to the probability of the car being a convertible. This would give us 1/2 + 1/2 == 1. But, this is wrong, as it tells us that all 10 cars are either red or convertibles.\n",
    "It's wrong because it assumes that the two traits (color and vehicle type) are independent, when in fact they aren't. Some of the cars are red and convertibles. If we don't account for this overlap, we end up with a vastly inflated count."
   ]
  },
  {
   "cell_type": "code",
   "execution_count": 11,
   "metadata": {
    "collapsed": false
   },
   "outputs": [
    {
     "name": "stdout",
     "output_type": "stream",
     "text": [
      "0.824742268041\n"
     ]
    }
   ],
   "source": [
    "stripes_or_bars = None\n",
    "red_or_orange = None\n",
    "red = flags[flags[\"red\"] == 1].shape[0] / float(flags.shape[0])\n",
    "orange = flags[flags[\"orange\"] == 1].shape[0] / float(flags.shape[0])\n",
    "red_and_orange = flags[(flags[\"red\"] == 1) & (flags[\"orange\"] == 1)].shape[0] / float(flags.shape[0])\n",
    "\n",
    "red_or_orange = red + orange - red_and_orange\n",
    "print red_or_orange"
   ]
  }
 ],
 "metadata": {
  "kernelspec": {
   "display_name": "Python 2",
   "language": "python",
   "name": "python2"
  },
  "language_info": {
   "codemirror_mode": {
    "name": "ipython",
    "version": 2
   },
   "file_extension": ".py",
   "mimetype": "text/x-python",
   "name": "python",
   "nbconvert_exporter": "python",
   "pygments_lexer": "ipython2",
   "version": "2.7.11"
  }
 },
 "nbformat": 4,
 "nbformat_minor": 0
}
