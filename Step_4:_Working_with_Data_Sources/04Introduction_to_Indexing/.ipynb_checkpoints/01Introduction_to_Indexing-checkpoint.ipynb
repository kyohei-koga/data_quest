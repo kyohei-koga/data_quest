{
 "cells": [
  {
   "cell_type": "code",
   "execution_count": 1,
   "metadata": {
    "collapsed": false
   },
   "outputs": [
    {
     "name": "stdout",
     "output_type": "stream",
     "text": [
      "(0, u'id', u'INTEGER', 1, None, 1)\n",
      "(1, u'code', u'varchar(255)', 1, None, 0)\n",
      "(2, u'name', u'varchar(255)', 1, None, 0)\n",
      "(3, u'area', u'integer', 0, None, 0)\n",
      "(4, u'area_land', u'integer', 0, None, 0)\n",
      "(5, u'area_water', u'integer', 0, None, 0)\n",
      "(6, u'population', u'integer', 0, None, 0)\n",
      "(7, u'population_growth', u'float', 0, None, 0)\n",
      "(8, u'birth_rate', u'float', 0, None, 0)\n",
      "(9, u'death_rate', u'float', 0, None, 0)\n",
      "(10, u'migration_rate', u'float', 0, None, 0)\n",
      "(11, u'created_at', u'datetime', 0, None, 0)\n",
      "(12, u'updated_at', u'datetime', 0, None, 0)\n"
     ]
    }
   ],
   "source": [
    "import sqlite3\n",
    "conn = sqlite3.connect(\"factbook.db\")\n",
    "cur = conn.cursor()\n",
    "query = \"pragma table_info(facts)\"\n",
    "cur.execute(query)\n",
    "schema = cur.fetchall()\n",
    "for row in schema:\n",
    "    print row"
   ]
  },
  {
   "cell_type": "markdown",
   "metadata": {},
   "source": [
    "# Query planner\n",
    "If the parser was able to successfully parse the query, then SQLite moves on to the query planning and optimization phase.\n",
    "\n",
    "There are many different ways for SQLite to access the underlying data in a database. \n",
    "\n",
    " The query optimizer generates cost estimates for the various ways to access the underlying data, factoring in the schema of the tables and the operations the query requires. The heuristics and algorithms that are involved in query optimization is complex and out of this mission's scope.\n",
    " \n",
    " The optimizer quickly assesses the various ways to access the data and generates a best guess for the fastest query plan. "
   ]
  },
  {
   "cell_type": "markdown",
   "metadata": {},
   "source": [
    "# Explain query plan\n",
    "We can use the EXPLAIN QUERY PLAN statement before any query we're running to get a high level query plan that would be performed. \n",
    "\n",
    "We'll focus on the value at index 4 in the returned tuple in this mission. SCAN TABLE means that every row in entire table (facts) had to be accessed to evaluate the query."
   ]
  },
  {
   "cell_type": "code",
   "execution_count": 3,
   "metadata": {
    "collapsed": false
   },
   "outputs": [
    {
     "name": "stdout",
     "output_type": "stream",
     "text": [
      "[(0, 0, 0, u'SCAN TABLE facts')]\n"
     ]
    }
   ],
   "source": [
    "query = \"explain query plan select * from facts where area>40000;\"\n",
    "query_plan_one = cur.execute(query).fetchall()\n",
    "print query_plan_one"
   ]
  },
  {
   "cell_type": "markdown",
   "metadata": {},
   "source": [
    "# Data representation\n",
    "Even though the queries asked for a subset of the facts table, SQLite still ends up scanning the entire table.This is because of the way SQLite represents data. \n",
    "\n",
    "Since the rows are ordered by id, SQLite can search for a specific row based on it's id value using binary search.\n",
    "\n",
    "Unless we provide specific id values in the WHERE statement in the query, SQLite can't take advantage of binary search and has to instead scan the entire table, row by row."
   ]
  },
  {
   "cell_type": "markdown",
   "metadata": {},
   "source": [
    "# Time complexity\n",
    "Binary search on a table using the primary key would be O(log N) time complexity where N is the number of total rows in the table. "
   ]
  },
  {
   "cell_type": "code",
   "execution_count": 6,
   "metadata": {
    "collapsed": false
   },
   "outputs": [
    {
     "name": "stdout",
     "output_type": "stream",
     "text": [
      "[(0, 0, 0, u'SEARCH TABLE facts USING INTEGER PRIMARY KEY (rowid=?)')]\n"
     ]
    }
   ],
   "source": [
    "query = \"explain query plan select * from facts where id == 20;\"\n",
    "query_plan_four = conn.execute(query).fetchall()\n",
    "print query_plan_four"
   ]
  },
  {
   "cell_type": "markdown",
   "metadata": {},
   "source": [
    "# Search and rowid\n",
    "SQLite uses rowid to refer to the primary key of a table. The alias rowid will be displayed in the query plan, no matter what you name the primary key column for that table. "
   ]
  },
  {
   "cell_type": "markdown",
   "metadata": {},
   "source": [
    "# Indexing\n",
    "SQLite can take advantage of speedy lookups when searching for a specific primary key. \n",
    "We need a way to take advantage of the speed that lookups by primary keys give us without knowing the primary key when querying. To accomplish that, we could create a separate table that's optimized for lookups on a specific value in a column from the facts table instead of by the id. We call this table an index and each row in the index contains"
   ]
  },
  {
   "cell_type": "markdown",
   "metadata": {},
   "source": [
    "# All together now"
   ]
  },
  {
   "cell_type": "code",
   "execution_count": 9,
   "metadata": {
    "collapsed": false
   },
   "outputs": [
    {
     "name": "stdout",
     "output_type": "stream",
     "text": [
      "<sqlite3.Cursor object at 0x7f5cbc11d9d0>\n",
      "[(0, 0, 0, u'SEARCH TABLE facts USING INDEX pop_idx (population>?)')]\n"
     ]
    }
   ],
   "source": [
    "query_plan_six = conn.execute(\"explain query plan select * from facts where population > 10000;\")\n",
    "print query_plan_six\n",
    "\n",
    "conn.execute(\"create index if not exists pop_idx on facts(population)\")\n",
    "query_plan_seven = conn.execute(\"explain query plan select * from facts where population > 10000 ;\").fetchall()\n",
    "print(query_plan_seven)"
   ]
  },
  {
   "cell_type": "code",
   "execution_count": null,
   "metadata": {
    "collapsed": true
   },
   "outputs": [],
   "source": []
  }
 ],
 "metadata": {
  "kernelspec": {
   "display_name": "Python 2",
   "language": "python",
   "name": "python2"
  },
  "language_info": {
   "codemirror_mode": {
    "name": "ipython",
    "version": 2
   },
   "file_extension": ".py",
   "mimetype": "text/x-python",
   "name": "python",
   "nbconvert_exporter": "python",
   "pygments_lexer": "ipython2",
   "version": "2.7.11"
  }
 },
 "nbformat": 4,
 "nbformat_minor": 0
}
