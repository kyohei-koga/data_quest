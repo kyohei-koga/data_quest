{
 "cells": [
  {
   "cell_type": "code",
   "execution_count": 3,
   "metadata": {
    "collapsed": false
   },
   "outputs": [
    {
     "data": {
      "text/plain": [
       "261"
      ]
     },
     "execution_count": 3,
     "metadata": {},
     "output_type": "execute_result"
    }
   ],
   "source": [
    "import sqlite3\n",
    "conn = sqlite3.connect(\"factbook.db\")\n",
    "cur = conn.cursor()\n",
    "query = \"select * from facts;\"\n",
    "cur.execute(query)\n",
    "facts = cur.fetchall()\n",
    "facts_count = len(facts)\n",
    "facts_count"
   ]
  },
  {
   "cell_type": "markdown",
   "metadata": {},
   "source": [
    "# Counting in SQL\n",
    "Thankfully, SQL includes the COUNT aggregation function, which allows us to count the number of records in a table."
   ]
  },
  {
   "cell_type": "code",
   "execution_count": 5,
   "metadata": {
    "collapsed": false
   },
   "outputs": [
    {
     "name": "stdout",
     "output_type": "stream",
     "text": [
      "[(261,)]\n"
     ]
    }
   ],
   "source": [
    "query = \"select count(*) from facts;\" #count the number of rows in the facts table of factbook.db\n",
    "cur.execute(query)\n",
    "result = cur.fetchall()\n",
    "print result"
   ]
  },
  {
   "cell_type": "code",
   "execution_count": 8,
   "metadata": {
    "collapsed": false
   },
   "outputs": [
    {
     "name": "stdout",
     "output_type": "stream",
     "text": [
      "[(228,)]\n"
     ]
    }
   ],
   "source": [
    "#only count the total number of non-null values in the area_water column\n",
    "query = \"select count(birth_rate) from facts;\" \n",
    "cur.execute(query)\n",
    "result = cur.fetchall()\n",
    "print result"
   ]
  },
  {
   "cell_type": "markdown",
   "metadata": {},
   "source": [
    "# Min and max in SQL"
   ]
  },
  {
   "cell_type": "code",
   "execution_count": 10,
   "metadata": {
    "collapsed": false
   },
   "outputs": [
    {
     "name": "stdout",
     "output_type": "stream",
     "text": [
      "[(0.0,)]\n",
      "[(14.89,)]\n"
     ]
    }
   ],
   "source": [
    "query = \"select min(population_growth) from facts;\"\n",
    "cur.execute(query)\n",
    "result = cur.fetchall()\n",
    "print result\n",
    "\n",
    "query = \"select max(death_rate) from facts\"\n",
    "cur.execute(query)\n",
    "result = cur.fetchall()\n",
    "print result"
   ]
  },
  {
   "cell_type": "markdown",
   "metadata": {},
   "source": [
    "# Sum and average in SQL"
   ]
  },
  {
   "cell_type": "code",
   "execution_count": 11,
   "metadata": {
    "collapsed": false
   },
   "outputs": [
    {
     "name": "stdout",
     "output_type": "stream",
     "text": [
      "[(128584834,)]\n",
      "[(19067.59259259259,)]\n"
     ]
    }
   ],
   "source": [
    "query = \"select sum(area_land) from facts;\"\n",
    "cur.execute(query)\n",
    "result = cur.fetchall()\n",
    "print result\n",
    "\n",
    "query = \"select avg(area_water) from facts;\"\n",
    "cur.execute(query)\n",
    "result = cur.fetchall()\n",
    "print result"
   ]
  },
  {
   "cell_type": "markdown",
   "metadata": {},
   "source": [
    "# Multiple aggregation functions\n",
    "If we wanted to use the SUM, AVG, and MAX functions on a column, it would be inefficient to write three different queries to retrieve the information. You may recall that we can query multiple columns by separating the names with a comma"
   ]
  },
  {
   "cell_type": "code",
   "execution_count": 12,
   "metadata": {
    "collapsed": false
   },
   "outputs": [
    {
     "name": "stdout",
     "output_type": "stream",
     "text": [
      "[(62094928.32231405, 15026972654, 45.45)]\n"
     ]
    }
   ],
   "source": [
    "query = \"select avg(population),sum(population),max(birth_rate) from facts\"\n",
    "cur.execute(query)\n",
    "result = cur.fetchall()\n",
    "print result"
   ]
  },
  {
   "cell_type": "markdown",
   "metadata": {},
   "source": [
    "# Conditional aggregation\n",
    "As you may recall from earlier, we can use the WHERE statement to only query certain rows in a SQL table"
   ]
  },
  {
   "cell_type": "code",
   "execution_count": 13,
   "metadata": {
    "collapsed": false
   },
   "outputs": [
    {
     "name": "stdout",
     "output_type": "stream",
     "text": [
      "[(1.4572222222222226,)]\n"
     ]
    }
   ],
   "source": [
    "query = \"select avg(population_growth) from facts where population > 10000000\"\n",
    "cur.execute(query)\n",
    "result = cur.fetchall()\n",
    "print result"
   ]
  },
  {
   "cell_type": "markdown",
   "metadata": {},
   "source": [
    "# Selecting unique rows\n",
    "There are cases when we'll only want to select the unique values in a column or database, and not get each individual row. One example is if our facts table had duplicate entries for each country\n",
    "\n",
    "If we want to get a list of all the countries in the world, we'll need to remove these duplicate rows, so countries appear twice. We can do this with the DISTINCT statement\n",
    "\n",
    "The above query will select unique pairs of population and name values from facts"
   ]
  },
  {
   "cell_type": "code",
   "execution_count": 14,
   "metadata": {
    "collapsed": false
   },
   "outputs": [
    {
     "name": "stdout",
     "output_type": "stream",
     "text": [
      "[(38.57,), (12.92,), (23.67,), (8.13,), (38.78,), (15.85,), (16.64,), (13.61,), (12.15,), (9.41,), (15.5,), (13.66,), (21.14,), (11.87,), (10.7,), (11.41,), (24.68,), (36.02,), (17.78,), (22.76,), (8.87,), (20.96,), (14.46,), (17.32,), (8.92,), (42.03,), (18.39,), (42.01,), (23.83,), (36.17,), (10.28,), (20.33,), (35.08,), (36.6,), (13.83,), (12.49,), (16.47,), (27.84,), (34.88,), (35.85,), (15.91,), (28.67,), (9.45,), (9.9,), (9.63,), (10.27,), (23.65,), (15.41,), (18.73,), (18.51,), (22.9,), (16.46,), (33.31,), (30.0,), (10.51,), (37.27,), (19.43,), (10.72,), (12.38,), (34.49,), (30.86,), (12.74,), (8.47,), (31.09,), (8.66,), (16.03,), (24.89,), (35.74,), (33.38,), (15.59,), (22.31,), (23.14,), (9.16,), (13.91,), (19.55,), (16.72,), (17.99,), (31.45,), (14.84,), (18.48,), (8.74,), (18.16,), (7.93,), (25.37,), (19.15,), (26.4,), (21.46,), (14.52,), (8.19,), (None,), (19.91,), (22.98,), (24.25,), (10.0,), (14.59,), (25.47,), (34.41,), (18.03,), (10.45,), (10.1,), (11.37,), (11.55,), (32.61,), (41.56,), (19.71,), (15.75,), (44.99,), (10.18,), (25.6,), (31.34,), (13.29,), (18.78,), (20.54,), (12.0,), (6.65,), (20.25,), (10.42,), (18.2,), (38.58,), (19.8,), (24.95,), (20.64,), (10.83,), (13.33,), (45.45,), (37.64,), (12.14,), (24.44,), (22.58,), (11.05,), (18.32,), (24.38,), (16.37,), (18.28,), (24.27,), (9.74,), (9.27,), (9.84,), (9.14,), (11.6,), (33.75,), (13.5,), (13.7,), (13.57,), (20.87,), (8.63,), (34.23,), (34.52,), (9.08,), (14.19,), (37.03,), (8.27,), (9.91,), (8.42,), (25.77,), (40.45,), (20.75,), (36.91,), (9.64,), (29.19,), (16.34,), (24.67,), (11.99,), (10.5,), (22.17,), (36.39,), (11.19,), (34.16,), (34.13,), (23.0,), (13.46,), (16.33,), (19.4,), (23.74,), (43.79,), (15.43,), (12.17,), (13.07,), (17.0,), (25.04,), (19.16,), (15.96,), (29.98,), (42.13,), (32.26,), (10.2,), (9.23,), (8.88,), (13.77,), (14.48,), (15.22,), (15.33,), (7.42,), (13.45,), (12.56,), (13.8,), (13.0,), (14.33,), (12.67,), (11.33,), (10.91,), (12.11,), (10.9,), (14.08,), (11.91,), (11.1,), (11.26,), (9.88,), (16.13,), (22.89,), (16.82,), (10.86,), (10.31,), (31.11,), (22.99,), (30.24,), (18.6,)]\n"
     ]
    }
   ],
   "source": [
    "query = \"select distinct birth_rate from facts;\"\n",
    "cur.execute(query)\n",
    "unique_birth_rates = cur.fetchall()\n",
    "print unique_birth_rates"
   ]
  },
  {
   "cell_type": "markdown",
   "metadata": {},
   "source": [
    "# Distinct aggregations\n",
    "If we wanted to count the number of unique items in the population column, we could use the COUNT aggregation function along with the DISTINCT statement. Here's how it would work"
   ]
  },
  {
   "cell_type": "code",
   "execution_count": 15,
   "metadata": {
    "collapsed": false
   },
   "outputs": [
    {
     "name": "stdout",
     "output_type": "stream",
     "text": [
      "[(20.43473684210527,)]\n"
     ]
    }
   ],
   "source": [
    "query = \"select avg(distinct birth_rate) from facts where population > 20000000\"\n",
    "cur.execute(query)\n",
    "result = cur.fetchall()\n",
    "print(result)"
   ]
  },
  {
   "cell_type": "markdown",
   "metadata": {},
   "source": [
    "# Arithmetic in SQL"
   ]
  },
  {
   "cell_type": "code",
   "execution_count": 18,
   "metadata": {
    "collapsed": false
   },
   "outputs": [
    {
     "name": "stdout",
     "output_type": "stream",
     "text": [
      "\n"
     ]
    }
   ],
   "source": [
    "query = \"select population_growth / 1000000.0 from facts\"\n",
    "cur.execute(query)\n",
    "population_growth_millions = cur.fetchall()\n",
    "print "
   ]
  },
  {
   "cell_type": "markdown",
   "metadata": {},
   "source": [
    "# Arithmetic between columns"
   ]
  },
  {
   "cell_type": "code",
   "execution_count": 19,
   "metadata": {
    "collapsed": false
   },
   "outputs": [
    {
     "name": "stdout",
     "output_type": "stream",
     "text": [
      "[(108113615.44,), (3938061.4,), (112299751.44,), (95849.6,), (74183834.34,), (207056.64,), (83823539.98,), (3514839.3,), (47094598.980000004,), (13431602.5,), (19170328.799999997,), (600504.45,), (4591950.33,), (439290137.0,), (380691.24,), (11507626.8,), (19930192.48,), (996949.03,), (39495885.66,), (1565449.09,), (27650257.92,), (4369772.15,), (4823808.99,), (361539867.24,), (1125672.52,), (11355290.94,), (76294694.58,), (113203614.06,), (45976941.28,), (40528590.480000004,), (85223792.62,), (61424713.0,), (1288543.48,), (16875517.07,), (33614907.84,), (31865033.2,), (1982853812.6,), (95342925.12,), (2163289.67,), (273844219.20000005,), (14265291.0,), (10687399.68,), (67789328.82,), (5045273.72,), (12686147.95,), (2889748.71,), (12348016.72,), (6809433.66,), (2650636.8,), (89064.47,), (23367625.88,), (37290730.6,), (246879834.84,), (7676687.5,), (2600007.9299999997,), (21214989.25,), (1961401.0,), (386922035.91,), (1518679.63,), (7667690.800000001,), (95171885.38,), (4996634.48,), (6217960.44,), (5325724.08,), (94599657.36,), (83721923.82000001,), (10883399.43,), (163827.12,), (42071577.18,), (42761988.06,), (5023154.699999999,), (749926.44,), (21938741.229999997,), (23441083.64,), (12075000.02,), (733538.78,), (2778764196.48,), (491507854.08000004,), (180013394.0,), (145630744.17000002,), (11007686.25,), (20606243.84,), (78556002.4,), (4956352.8,), (147226804.44,), (14855142.120000001,), (38856241.08,), (134561131.93,), (227278.65,), (38224303.65,), (55991323.44,), (None,), (7305959.08,), (11953021.290000001,), (17624437.200000003,), (4092612.3000000003,), (11503543.86,), (2570965.3200000003,), (14558961.020000001,), (20710036.48,), (69228.16,), (5884243.32,), (1784888.76,), (2515218.0,), (85249397.98,), (77607491.03999999,), (74453789.12,), (424713.24,), (67483033.28,), (542294.15,), (192028.06,), (11617347.46,), (2197316.2800000003,), (265386243.62,), (153615.36,), (7200099.41,), (34199.2,), (6913617.48,), (918843.6599999999,), (66645398.0,), (87295739.85,), (3517568.13,), (14787.0,), (88028140.95,), (23896544.64,), (8077875.26,), (11815762.0,), (76694348.25,), (626389093.2,), (11092377.57,), (10090893.52,), (489751183.62,), (29345.7,), (8484295.68,), (18549352.62,), (14651867.52,), (59976648.03,), (263605761.36,), (42032786.01,), (11799586.81,), (8932905.19,), (28166255.0,), (148120723.92,), (45075769.480000004,), (91407.36,), (219655.48,), (131362.56,), (312481.33999999997,), (60096.399999999994,), (550977.04,), (68270697.36,), (48216627.300000004,), (10478119.24,), (169146.9,), (19694978.3,), (16399224.08,), (5553927.54,), (2499099.12,), (1879856.3800000001,), (30044355.400000002,), (125064061.79,), (60455408.199999996,), (90996193.25999999,), (40578417.92,), (98216080.16,), (1205636.6400000001,), (3029143.43,), (17642908.8,), (13888329.3,), (19795230.64,), (22200206.18,), (193463892.78,), (91088382.7,), (4210416.72,), (27868053.419999998,), (109696.03,), (1381270.19,), (20860355.25,), (179476247.94,), (11195243.079999998,), (19781.58,), (157311398.8,), (71087153.6,), (20691540.8,), (98695861.88,), (572036577.9200001,), (4244204.11,), (56355888.06,), (803178.7999999999,), (842.0,), (69968349.4,), (185867204.95,), (92778489.99000001,), (58457112.08,), (45676826.61,), (28800604.98,), (642436806.25,), (None,), (3228.3,), (596.0,), (None,), (None,), (2232.1,), (9854726.280000001,), (1066915.8,), (75795.95999999999,), (57733.0,), (None,), (548443.8200000001,), (None,), (646443.7,), (None,), (None,), (11766.560000000001,), (20765.29,), (261337.46000000002,), (212220.58000000002,), (99619.39,), (38860.100000000006,), (1225.7,), (1350.37,), (None,), (None,), (1928.16,), (None,), (49746.53999999999,), (105294.0,), (None,), (111067.28,), (173885.2,), (None,), (3394.61,), (36279.92,), (88547.2,), (175129.2,), (154079.2,), (7861.5,), (48.0,), (9665.8,), (None,), (165924.0,), (70645.9,), (249148.90000000002,), (None,), (166453.92,), (5757371.199999999,), (164682.66,), (None,), (None,), (None,), (7121099.55,), (None,), (None,), (8216829.7,), (2180708.12,), (None,), (None,), (None,), (None,), (None,), (15093499222.880001,)]\n"
     ]
    }
   ],
   "source": [
    "query = \"select (population * population_growth) + population from facts;\"\n",
    "cur.execute(query)\n",
    "next_year_population = cur.fetchall()\n",
    "print(next_year_population)"
   ]
  },
  {
   "cell_type": "code",
   "execution_count": null,
   "metadata": {
    "collapsed": true
   },
   "outputs": [],
   "source": []
  }
 ],
 "metadata": {
  "kernelspec": {
   "display_name": "Python 2",
   "language": "python",
   "name": "python2"
  },
  "language_info": {
   "codemirror_mode": {
    "name": "ipython",
    "version": 2
   },
   "file_extension": ".py",
   "mimetype": "text/x-python",
   "name": "python",
   "nbconvert_exporter": "python",
   "pygments_lexer": "ipython2",
   "version": "2.7.11"
  }
 },
 "nbformat": 4,
 "nbformat_minor": 0
}
