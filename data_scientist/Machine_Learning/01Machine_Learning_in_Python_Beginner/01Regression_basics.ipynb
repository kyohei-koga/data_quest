{
 "cells": [
  {
   "cell_type": "code",
   "execution_count": 48,
   "metadata": {
    "collapsed": false
   },
   "outputs": [],
   "source": [
    "%matplotlib inline\n",
    "import pandas as pd\n",
    "sp500 = pd.read_csv(\"sp500.csv\",usecols=[0,4],names=[\"date\",\"value\"],header=0)\n",
    "sp500 = sp500[:2600]"
   ]
  },
  {
   "cell_type": "markdown",
   "metadata": {},
   "source": [
    "# Finding the predictors\n",
    "Let's say that we want to predict what tomorrow's market close price will be. We have all the data we need to do this, but we don't have it in the right format. In order to apply a machine learning algorithm, both the data that we want to use to predict, and the actual value that we want to predict need to be in the same row. Each row is a single observation, and it makes it much easier to apply machine learning algorithms.\n"
   ]
  },
  {
   "cell_type": "code",
   "execution_count": 49,
   "metadata": {
    "collapsed": false
   },
   "outputs": [],
   "source": [
    "next_day = sp500[\"value\"].iloc[1:]\n",
    "sp500 = sp500.iloc[:-1,:]\n",
    "\n",
    "sp500[\"next_day\"] = next_day.values #cancel index effect"
   ]
  },
  {
   "cell_type": "code",
   "execution_count": 50,
   "metadata": {
    "collapsed": false
   },
   "outputs": [
    {
     "data": {
      "text/plain": [
       "date         object\n",
       "value       float64\n",
       "next_day    float64\n",
       "dtype: object"
      ]
     },
     "execution_count": 50,
     "metadata": {},
     "output_type": "execute_result"
    }
   ],
   "source": [
    "sp500.dtypes"
   ]
  },
  {
   "cell_type": "markdown",
   "metadata": {},
   "source": [
    "# Making predictions\n",
    "Because we are predicting continuous values, and there is this ordering, regression is a good fit for this problem.\n",
    "\n",
    "we can use the linear regression class in the sckit-learn package. This is the standard package for machine learning in python, and it's going to be used extensively in future lessons."
   ]
  },
  {
   "cell_type": "code",
   "execution_count": 51,
   "metadata": {
    "collapsed": false
   },
   "outputs": [
    {
     "data": {
      "text/plain": [
       "array([ 2110.76895585,  2108.05332308,  2097.78969027, ...,  1262.85360559,\n",
       "        1266.97702342,  1263.77218216])"
      ]
     },
     "execution_count": 51,
     "metadata": {},
     "output_type": "execute_result"
    }
   ],
   "source": [
    "from sklearn.linear_model import LinearRegression\n",
    "\n",
    "#Initialize the linear regression class.\n",
    "regressor = LinearRegression()\n",
    "\n",
    "# We're using 'value' as a predictor, and making predictions for 'next_day'.\n",
    "# The predictors need to be in a dataframe!\n",
    "\n",
    "predictors = sp500[[\"value\"]] #keep df format\n",
    "to_predict = sp500[\"next_day\"]\n",
    "\n",
    "# Train the linear regression model on our dataset.\n",
    "regressor.fit(predictors, to_predict)\n",
    "\n",
    "# Generate a list of predictions with our trained linear regression model\n",
    "next_day_predictions = regressor.predict(predictors)\n",
    "next_day_predictions"
   ]
  },
  {
   "cell_type": "markdown",
   "metadata": {},
   "source": [
    "# Measuring error\n",
    "Once commonly used error metric for regression is mean squared error, or MSE. \n"
   ]
  },
  {
   "cell_type": "code",
   "execution_count": 52,
   "metadata": {
    "collapsed": true
   },
   "outputs": [],
   "source": [
    "#The actual values are in to_predict, and the predictions are in next_day_predictions\n",
    "mse = ((next_day_predictions - to_predict) ** 2.).sum() / float(to_predict.shape[0])"
   ]
  },
  {
   "cell_type": "code",
   "execution_count": 53,
   "metadata": {
    "collapsed": false
   },
   "outputs": [
    {
     "data": {
      "text/plain": [
       "259.12121901535244"
      ]
     },
     "execution_count": 53,
     "metadata": {},
     "output_type": "execute_result"
    }
   ],
   "source": [
    "mse"
   ]
  },
  {
   "cell_type": "markdown",
   "metadata": {},
   "source": [
    "# Overfitting\n",
    "One problem with measuring error with our predictions is that our model was trained using the same data we predicted on. \n",
    "\n",
    "With machine learning, it's almost always our goal to make predictions on new data.\n",
    "\n",
    "Overfitting usually results in a very low error rate, because the model has already \"seen\" the correct answers. \n",
    "\n",
    "The best way to avoid overfitting is to make predictions on data that hasn't been used to train the model. "
   ]
  },
  {
   "cell_type": "code",
   "execution_count": 54,
   "metadata": {
    "collapsed": false
   },
   "outputs": [],
   "source": [
    "import numpy as np\n",
    "import random\n",
    "\n",
    "np.random.seed(1)\n",
    "random.seed(1)\n",
    "#Random;y shuffle the row in our dateframe\n",
    "sp500 = sp500.loc[np.random.permutation(sp500.index)]\n",
    "\n",
    "#select 70% of the dataset to be training data\n",
    "highest_train_row = int(sp500.shape[0] * .7)\n",
    "train = sp500.loc[:highest_train_row:,:]\n",
    "\n",
    "#select 30% of the dataset to be test data\n",
    "test = sp500.loc[highest_train_row:,:]\n",
    "\n",
    "regressor = LinearRegression()\n",
    "\n",
    "predictions = train[[\"value\"]]\n",
    "to_predict = train[\"next_day\"]\n",
    "\n",
    "regressor.fit(predictions,to_predict)\n",
    "next_day_predictions_test = regressor.predict(test[[\"value\"]])\n",
    "\n",
    "mse = ((next_day_predictions_test - test[\"next_day\"])**2).sum() / len(next_day_predictions_test)"
   ]
  },
  {
   "cell_type": "markdown",
   "metadata": {},
   "source": [
    "# Visualizing the fit\n",
    "Error metrics can tell us a lot about how good a regression model is, but sometimes being able to visualize what's going on is much more valuable."
   ]
  },
  {
   "cell_type": "code",
   "execution_count": 64,
   "metadata": {
    "collapsed": false
   },
   "outputs": [
    {
     "data": {
      "image/png": "[encoded data removed]",
      "text/plain": [
       "<matplotlib.figure.Figure at 0x7f49972ad290>"
      ]
     },
     "metadata": {},
     "output_type": "display_data"
    },
    {
     "data": {
      "text/plain": [
       "[<matplotlib.lines.Line2D at 0x7f4996d8d990>]"
      ]
     },
     "execution_count": 64,
     "metadata": {},
     "output_type": "execute_result"
    },
    {
     "data": {
      "image/png": "[encoded data removed]",
      "text/plain": [
       "<matplotlib.figure.Figure at 0x7f4996d8d9d0>"
      ]
     },
     "metadata": {},
     "output_type": "display_data"
    }
   ],
   "source": [
    "import matplotlib.pyplot as plt\n",
    "\n",
    "plt.scatter(train[\"value\"],train[\"next_day\"])\n",
    "plt.plot(train[\"value\"],regressor.predict(train[[\"value\"]]),color=\"red\")\n",
    "plt.show()\n",
    "\n",
    "plt.scatter(test[\"value\"],test[\"next_day\"])\n",
    "plt.plot(test[\"value\"],regressor.predict(test[[\"value\"]]),color=\"red\")"
   ]
  },
  {
   "cell_type": "markdown",
   "metadata": {},
   "source": [
    "# Other error metrics\n",
    "wo other commonly used error metrics are root mean squared error, or RMSE, and mean absolute error, or MAE.\n",
    "RMSE is just the square root of MSE."
   ]
  },
  {
   "cell_type": "code",
   "execution_count": 70,
   "metadata": {
    "collapsed": false
   },
   "outputs": [],
   "source": [
    "rmse = (sum((regressor.predict(test[[\"value\"]]) - test[\"next_day\"])**2) / float(predictions.shape[0])) ** .5\n",
    "mae = (sum(abs(regressor.predict(test[[\"value\"]]) - test[\"next_day\"])) / float(predictions.shape[0]))"
   ]
  },
  {
   "cell_type": "code",
   "execution_count": null,
   "metadata": {
    "collapsed": true
   },
   "outputs": [],
   "source": []
  }
 ],
 "metadata": {
  "kernelspec": {
   "display_name": "Python 2",
   "language": "python",
   "name": "python2"
  },
  "language_info": {
   "codemirror_mode": {
    "name": "ipython",
    "version": 2
   },
   "file_extension": ".py",
   "mimetype": "text/x-python",
   "name": "python",
   "nbconvert_exporter": "python",
   "pygments_lexer": "ipython2",
   "version": "2.7.11"
  }
 },
 "nbformat": 4,
 "nbformat_minor": 0
}
