{
 "cells": [
  {
   "cell_type": "markdown",
   "metadata": {},
   "source": [
    "# Clustering overview\n",
    "In unsupervised learning, we aren't trying to predict anything. Instead, we're finding patterns in data.\n",
    "\n",
    "One of the main unsupervised learning techniques is called clustering. We use clustering when we're trying to explore a dataset, and understand the connections between the various rows and columns.\n",
    "\n",
    "Clustering voting data of Senators is particularly interesting because it can expose patterns that go deeper than party affiliation."
   ]
  },
  {
   "cell_type": "code",
   "execution_count": 2,
   "metadata": {
    "collapsed": true
   },
   "outputs": [],
   "source": [
    "import pandas as pd\n",
    "votes = pd.read_csv(\"114_congress.csv\")"
   ]
  },
  {
   "cell_type": "markdown",
   "metadata": {},
   "source": [
    "# Exploring the data"
   ]
  },
  {
   "cell_type": "code",
   "execution_count": 3,
   "metadata": {
    "collapsed": false
   },
   "outputs": [
    {
     "name": "stdout",
     "output_type": "stream",
     "text": [
      "R    54\n",
      "D    44\n",
      "I     2\n",
      "Name: party, dtype: int64\n",
      "1     0.325\n",
      "4     0.575\n",
      "5     0.535\n",
      "6     0.945\n",
      "7     0.545\n",
      "8     0.415\n",
      "9     0.545\n",
      "10    0.985\n",
      "20    0.525\n",
      "26    0.545\n",
      "32    0.410\n",
      "38    0.480\n",
      "39    0.510\n",
      "44    0.460\n",
      "47    0.370\n",
      "dtype: float64\n"
     ]
    }
   ],
   "source": [
    "print(votes[\"party\"].value_counts())\n",
    "print(votes.mean())"
   ]
  },
  {
   "cell_type": "markdown",
   "metadata": {},
   "source": [
    "# Distance between Senators\n",
    "To find the distance between two rows, we can use Euclidean distance. The formula is:\n",
    "\n",
    "- d = sqrt((q1-p1)**2 + (q2-p2)**2 + … +(qn-pn)**2)\n",
    "\n",
    "To compute Euclidean distance in Python, we can use the euclidean_distances() method in the scikit-learn library. "
   ]
  },
  {
   "cell_type": "code",
   "execution_count": 5,
   "metadata": {
    "collapsed": false
   },
   "outputs": [
    {
     "name": "stdout",
     "output_type": "stream",
     "text": [
      "[[ 1.73205081]]\n"
     ]
    },
    {
     "name": "stderr",
     "output_type": "stream",
     "text": [
      "/home/kyohei/anaconda2/lib/python2.7/site-packages/sklearn/utils/validation.py:386: DeprecationWarning: Passing 1d arrays as data is deprecated in 0.17 and willraise ValueError in 0.19. Reshape your data either using X.reshape(-1, 1) if your data has a single feature or X.reshape(1, -1) if it contains a single sample.\n",
      "  DeprecationWarning)\n",
      "/home/kyohei/anaconda2/lib/python2.7/site-packages/sklearn/utils/validation.py:386: DeprecationWarning: Passing 1d arrays as data is deprecated in 0.17 and willraise ValueError in 0.19. Reshape your data either using X.reshape(-1, 1) if your data has a single feature or X.reshape(1, -1) if it contains a single sample.\n",
      "  DeprecationWarning)\n"
     ]
    }
   ],
   "source": [
    "from sklearn.metrics.pairwise import euclidean_distances\n",
    "print(euclidean_distances(votes.iloc[0,3:],votes.iloc[1,3:]))"
   ]
  },
  {
   "cell_type": "markdown",
   "metadata": {},
   "source": [
    "# Initial clustering\n",
    "We'll use an algorithm called k-means clustering to split our data into clusters. k-means clustering uses Euclidean distance to form clusters of similar Senators.\n",
    "\n",
    "The k-means algorithm will group Senators who vote similarly on bills together, in clusters. Each cluster is assigned a center, and the Euclidean distance from each Senator to the center is computed. \n",
    "\n",
    "The k-means algorithm requires us to specify the number of clusters upfront. Because we suspect that clusters will occur along party lines, and the vast majority of Senators are either Republicans or Democrats, we'll pick 2 for our number of clusters.\n",
    "\n",
    "We'll use the KMeans class from scikit-learn to perform the clustering. Because we aren't predicting anything, there's no risk of overfitting, so we'll train our model on the whole dataset. After training, we'll be able to extract cluster labels that indicate what cluster each Senator belongs to.\n",
    "\n",
    "We can initialize the model like this:\n",
    "\n",
    "- kmeans_model = KMeans(n_clusters=2, random_state=1)\n",
    "\n",
    "The above code will initialize the k-means model with 2 clusters, and a random state of 1 to allow for the same results to be reproduced whenever the algorithm is run.\n",
    "\n",
    "We'll then be able to use the fit_transform() method to fit the model to votes and get the distance of each Senator to each cluster. The result will look like this:"
   ]
  },
  {
   "cell_type": "code",
   "execution_count": 6,
   "metadata": {
    "collapsed": false
   },
   "outputs": [
    {
     "name": "stdout",
     "output_type": "stream",
     "text": [
      "[[ 3.12141628  1.3134775 ]\n",
      " [ 2.6146248   2.05339992]\n",
      " [ 0.33960656  3.41651746]\n",
      " [ 3.42004795  0.24198446]\n",
      " [ 1.43833966  2.96866004]\n",
      " [ 0.33960656  3.41651746]\n",
      " [ 3.42004795  0.24198446]\n",
      " [ 0.33960656  3.41651746]\n",
      " [ 3.42004795  0.24198446]\n",
      " [ 0.31287498  3.30758755]\n",
      " [ 0.33960656  3.41651746]\n",
      " [ 3.27058526  0.96734144]\n",
      " [ 0.33960656  3.41651746]\n",
      " [ 3.34875646  0.53945585]\n",
      " [ 0.33960656  3.41651746]\n",
      " [ 1.18084816  3.12695614]\n",
      " [ 1.23852221  3.13536063]\n",
      " [ 3.42004795  0.24198446]\n",
      " [ 3.42004795  0.24198446]\n",
      " [ 3.42004795  0.24198446]\n",
      " [ 2.6146248   2.05339992]\n",
      " [ 0.58487332  3.31421108]\n",
      " [ 3.42004795  0.24198446]\n",
      " [ 3.42004795  0.24198446]\n",
      " [ 3.42004795  0.24198446]\n",
      " [ 3.42004795  0.24198446]\n",
      " [ 3.56324683  0.93036231]\n",
      " [ 3.42004795  0.24198446]\n",
      " [ 1.73847904  2.82326711]\n",
      " [ 0.33960656  3.41651746]\n",
      " [ 3.42004795  0.24198446]\n",
      " [ 3.42004795  0.24198446]\n",
      " [ 0.33960656  3.41651746]\n",
      " [ 3.42004795  0.24198446]\n",
      " [ 3.42004795  0.24198446]\n",
      " [ 0.58487332  3.31421108]\n",
      " [ 3.27058526  0.92088553]\n",
      " [ 0.33960656  3.41651746]\n",
      " [ 3.19687093  0.64668818]\n",
      " [ 3.42004795  0.24198446]\n",
      " [ 3.42004795  0.24198446]\n",
      " [ 0.76187197  3.27225905]\n",
      " [ 2.3965057   2.27626086]\n",
      " [ 3.28477567  0.93974352]\n",
      " [ 0.33960656  3.41651746]\n",
      " [ 3.42004795  0.24198446]\n",
      " [ 3.42004795  0.24198446]\n",
      " [ 3.42004795  0.24198446]\n",
      " [ 3.42004795  0.24198446]\n",
      " [ 0.88867948  3.27225905]\n",
      " [ 0.76187197  3.27225905]\n",
      " [ 3.01916091  1.66141833]\n",
      " [ 1.12020868  3.12134058]\n",
      " [ 3.56324683  0.93036231]\n",
      " [ 0.33960656  3.41651746]\n",
      " [ 3.34962442  1.10689798]\n",
      " [ 2.78266771  1.88408719]\n",
      " [ 0.33960656  3.41651746]\n",
      " [ 3.42004795  0.24198446]\n",
      " [ 1.71151573  2.80456307]\n",
      " [ 3.42004795  0.24198446]\n",
      " [ 0.33960656  3.41651746]\n",
      " [ 0.33960656  3.41651746]\n",
      " [ 0.33960656  3.41651746]\n",
      " [ 3.42004795  0.24198446]\n",
      " [ 3.42004795  0.24198446]\n",
      " [ 0.33960656  3.41651746]\n",
      " [ 0.33960656  3.41651746]\n",
      " [ 1.01109315  3.2936348 ]\n",
      " [ 3.56324683  0.93036231]\n",
      " [ 3.42004795  0.24198446]\n",
      " [ 0.76187197  3.27225905]\n",
      " [ 3.42004795  0.24198446]\n",
      " [ 0.33960656  3.41651746]\n",
      " [ 1.77652196  1.72996156]\n",
      " [ 3.42004795  0.24198446]\n",
      " [ 3.42004795  0.24198446]\n",
      " [ 3.42004795  0.24198446]\n",
      " [ 2.87211656  0.98753387]\n",
      " [ 0.33960656  3.41651746]\n",
      " [ 3.56324683  0.93036231]\n",
      " [ 0.33960656  3.41651746]\n",
      " [ 0.33960656  3.41651746]\n",
      " [ 3.42004795  0.24198446]\n",
      " [ 3.42004795  0.24198446]\n",
      " [ 0.33960656  3.41651746]\n",
      " [ 3.42004795  0.24198446]\n",
      " [ 0.76187197  3.27225905]\n",
      " [ 3.42004795  0.24198446]\n",
      " [ 1.71151573  2.80456307]\n",
      " [ 3.42004795  0.24198446]\n",
      " [ 3.42004795  0.24198446]\n",
      " [ 3.42004795  0.24198446]\n",
      " [ 0.33960656  3.41651746]\n",
      " [ 3.42004795  0.24198446]\n",
      " [ 1.32031799  3.118529  ]\n",
      " [ 0.33960656  3.41651746]\n",
      " [ 0.33960656  3.41651746]\n",
      " [ 3.56324683  1.00295807]\n",
      " [ 0.33960656  3.41651746]]\n"
     ]
    }
   ],
   "source": [
    "from sklearn.cluster import KMeans\n",
    "\n",
    "kmeans_model = KMeans(n_clusters=2,random_state=1)\n",
    "senator_distances = kmeans_model.fit_transform(votes.iloc[:,3:])\n",
    "print senator_distances"
   ]
  },
  {
   "cell_type": "markdown",
   "metadata": {},
   "source": [
    "# Exploring the clusters\n",
    "We can use the Pandas method crosstab() to compute and display how many Senators from each party ended up in each cluster.\n",
    "\n",
    "We can extract the cluster labels for each Senator from kmeans_model using kmeans_model.labels_, then we can make a table comparing these labels to votes[\"party\"] with crosstab(). This will show us if the clusters tend to break down along party lines or not."
   ]
  },
  {
   "cell_type": "code",
   "execution_count": 12,
   "metadata": {
    "collapsed": false
   },
   "outputs": [
    {
     "name": "stdout",
     "output_type": "stream",
     "text": [
      "party   D  I   R\n",
      "row_0           \n",
      "0      41  2   0\n",
      "1       3  0  54\n"
     ]
    }
   ],
   "source": [
    "labels = kmeans_model.labels_\n",
    "print(pd.crosstab(labels,votes['party']))"
   ]
  },
  {
   "cell_type": "markdown",
   "metadata": {},
   "source": [
    "# Exploring Senators in the wrong cluster\n",
    "It looks like both of our clusters mostly broke down along party lines. The first cluster contains 41 Democrats, and both Independents. The second cluster contains 3 Democrats, and 54 Republicans. "
   ]
  },
  {
   "cell_type": "code",
   "execution_count": 14,
   "metadata": {
    "collapsed": false
   },
   "outputs": [
    {
     "name": "stdout",
     "output_type": "stream",
     "text": [
      "        name party state    1    4    5    6    7    8    9   10   20   26  \\\n",
      "42  Heitkamp     D    ND  0.0  1.0  0.0  1.0  0.0  0.0  1.0  1.0  0.0  0.0   \n",
      "56   Manchin     D    WV  0.0  1.0  0.0  1.0  0.0  0.0  1.0  1.0  1.0  0.0   \n",
      "74      Reid     D    NV  0.5  0.5  0.5  0.5  0.5  0.5  0.5  0.5  0.5  0.5   \n",
      "\n",
      "     32   38   39   44   47  \n",
      "42  0.0  1.0  0.0  0.0  0.0  \n",
      "56  0.0  1.0  1.0  0.0  0.0  \n",
      "74  0.5  0.5  0.5  0.5  0.5  \n"
     ]
    }
   ],
   "source": [
    "democratic_outliers = votes[(labels == 1) & (votes['party'] == 'D')]\n",
    "print(democratic_outliers)"
   ]
  },
  {
   "cell_type": "markdown",
   "metadata": {},
   "source": [
    "# Plotting out the clusters"
   ]
  },
  {
   "cell_type": "code",
   "execution_count": 20,
   "metadata": {
    "collapsed": false
   },
   "outputs": [
    {
     "data": {
      "image/png": "[encoded data removed]",
      "text/plain": [
       "<matplotlib.figure.Figure at 0x7f8d000cbed0>"
      ]
     },
     "metadata": {},
     "output_type": "display_data"
    }
   ],
   "source": [
    "import matplotlib.pyplot as plt\n",
    "import seaborn as sns\n",
    "%matplotlib inline\n",
    "plt.scatter(senator_distances[:,0],senator_distances[:,1],c=labels)\n",
    "sns.plt.show()"
   ]
  },
  {
   "cell_type": "markdown",
   "metadata": {},
   "source": [
    "# Finding the most extreme\n",
    "The most extreme Senators are those who are the furthest away from one cluster. \n",
    "\n",
    "We cube the distances so that we can get a good amount of separation between the extremists who are farther away from a party"
   ]
  },
  {
   "cell_type": "code",
   "execution_count": 22,
   "metadata": {
    "collapsed": false
   },
   "outputs": [
    {
     "name": "stdout",
     "output_type": "stream",
     "text": [
      "         name party state    1    4    5    6    7    8    9   10   20   26  \\\n",
      "98     Wicker     R    MS  0.0  1.0  1.0  1.0  1.0  0.0  1.0  0.0  1.0  1.0   \n",
      "53   Lankford     R    OK  0.0  1.0  1.0  0.0  1.0  0.0  1.0  1.0  1.0  1.0   \n",
      "69       Paul     R    KY  0.0  1.0  1.0  0.0  1.0  0.0  1.0  1.0  1.0  1.0   \n",
      "80      Sasse     R    NE  0.0  1.0  1.0  0.0  1.0  0.0  1.0  1.0  1.0  1.0   \n",
      "26       Cruz     R    TX  0.0  1.0  1.0  0.0  1.0  0.0  1.0  1.0  1.0  1.0   \n",
      "48    Johnson     R    WI  0.0  1.0  1.0  1.0  1.0  0.0  1.0  1.0  1.0  1.0   \n",
      "47    Isakson     R    GA  0.0  1.0  1.0  1.0  1.0  0.0  1.0  1.0  1.0  1.0   \n",
      "65  Murkowski     R    AK  0.0  1.0  1.0  1.0  1.0  0.0  1.0  1.0  1.0  1.0   \n",
      "64      Moran     R    KS  0.0  1.0  1.0  1.0  1.0  0.0  1.0  1.0  1.0  1.0   \n",
      "30       Enzi     R    WY  0.0  1.0  1.0  1.0  1.0  0.0  1.0  1.0  1.0  1.0   \n",
      "\n",
      "     32   38   39   44   47  extremism  \n",
      "98  0.0  0.0  1.0  0.0  0.0  46.250476  \n",
      "53  0.0  0.0  1.0  0.0  0.0  46.046873  \n",
      "69  0.0  0.0  1.0  0.0  0.0  46.046873  \n",
      "80  0.0  0.0  1.0  0.0  0.0  46.046873  \n",
      "26  0.0  0.0  1.0  0.0  0.0  46.046873  \n",
      "48  0.0  0.0  1.0  0.0  0.0  40.017540  \n",
      "47  0.0  0.0  1.0  0.0  0.0  40.017540  \n",
      "65  0.0  0.0  1.0  0.0  0.0  40.017540  \n",
      "64  0.0  0.0  1.0  0.0  0.0  40.017540  \n",
      "30  0.0  0.0  1.0  0.0  0.0  40.017540  \n"
     ]
    }
   ],
   "source": [
    "import numpy\n",
    "extremism = numpy.sum(senator_distances ** 3,axis=1)\n",
    "votes['extremism'] = extremism\n",
    "votes.sort_values('extremism',ascending=False,inplace=True)\n",
    "print(votes.head(10))"
   ]
  },
  {
   "cell_type": "code",
   "execution_count": null,
   "metadata": {
    "collapsed": true
   },
   "outputs": [],
   "source": []
  }
 ],
 "metadata": {
  "kernelspec": {
   "display_name": "Python 2",
   "language": "python",
   "name": "python2"
  },
  "language_info": {
   "codemirror_mode": {
    "name": "ipython",
    "version": 2
   },
   "file_extension": ".py",
   "mimetype": "text/x-python",
   "name": "python",
   "nbconvert_exporter": "python",
   "pygments_lexer": "ipython2",
   "version": "2.7.11"
  }
 },
 "nbformat": 4,
 "nbformat_minor": 0
}
