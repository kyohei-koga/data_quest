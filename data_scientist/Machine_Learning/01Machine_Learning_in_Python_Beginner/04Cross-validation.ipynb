{
 "cells": [
  {
   "cell_type": "markdown",
   "metadata": {},
   "source": [
    "# Introduction to validation\n",
    "If we only evaluate a classifier's effectiveness on the data it was trained on, we can run into overfitting, where the classifier only performs well on the training but doesn't generalize to future data.\n",
    "\n",
    "To test a classifier's generalizability, or its ability to provide accurate predictions on data it wasn't trained on, we use cross-validation techniques. Cross-validation involves splitting historical data into:\n",
    "\n",
    "- a training set -- which we use to train the classifer,\n",
    "- a test set -- which we use to evaluate the classifier's effectiveness using various measures.\n",
    "\n",
    "Cross-validation is an important step that should be utilized after training any kind of machine learning model. "
   ]
  },
  {
   "cell_type": "code",
   "execution_count": 2,
   "metadata": {
    "collapsed": false
   },
   "outputs": [
    {
     "name": "stdout",
     "output_type": "stream",
     "text": [
      "        gpa         gre  actual_label\n",
      "0  3.177277  594.102992             0\n",
      "1  3.412655  631.528607             0\n",
      "2  2.728097  553.714399             0\n",
      "3  3.093559  551.089985             0\n",
      "4  3.141923  537.184894             0\n"
     ]
    }
   ],
   "source": [
    "import pandas as pd\n",
    "from sklearn.linear_model import LogisticRegression\n",
    "\n",
    "admissions = pd.read_csv(\"admission.csv\")\n",
    "admissions[\"actual_label\"] = admissions[\"admit\"]\n",
    "admissions = admissions.drop(\"admit\",axis=1)\n",
    "\n",
    "print(admissions.head())"
   ]
  },
  {
   "cell_type": "markdown",
   "metadata": {},
   "source": [
    "# Holdout validation\n",
    "The simplest technique is called holdout validation, which involves randomly splitting our dataset into a training data and a test set."
   ]
  },
  {
   "cell_type": "code",
   "execution_count": 3,
   "metadata": {
    "collapsed": false
   },
   "outputs": [
    {
     "name": "stdout",
     "output_type": "stream",
     "text": [
      "          gpa         gre  actual_label\n",
      "188  3.229678  563.682408             0\n",
      "106  3.465695  578.830098             0\n",
      "465  3.631865  561.211942             1\n",
      "527  3.269801  684.722621             1\n",
      "410  3.022044  614.554527             1\n"
     ]
    }
   ],
   "source": [
    "import numpy as np\n",
    "shuffled_admissions = admissions.loc[np.random.permutation(len(admissions))]\n",
    "train = shuffled_admissions[:515]\n",
    "test = shuffled_admissions[515:]\n",
    "\n",
    "print(shuffled_admissions.head())"
   ]
  },
  {
   "cell_type": "markdown",
   "metadata": {},
   "source": [
    "# Accuracy\n",
    "Recall that accuracy helps us answer the question:\n",
    "\n",
    "- What fraction of the predictions were correct (actual label matched predicted label)?"
   ]
  },
  {
   "cell_type": "code",
   "execution_count": 27,
   "metadata": {
    "collapsed": false
   },
   "outputs": [
    {
     "name": "stdout",
     "output_type": "stream",
     "text": [
      "0.612403100775\n"
     ]
    },
    {
     "name": "stderr",
     "output_type": "stream",
     "text": [
      "/home/kyohei/anaconda2/lib/python2.7/site-packages/ipykernel/__main__.py:7: SettingWithCopyWarning: \n",
      "A value is trying to be set on a copy of a slice from a DataFrame.\n",
      "Try using .loc[row_indexer,col_indexer] = value instead\n",
      "\n",
      "See the caveats in the documentation: http://pandas.pydata.org/pandas-docs/stable/indexing.html#indexing-view-versus-copy\n"
     ]
    }
   ],
   "source": [
    "shuffled_index = np.random.permutation(admissions.index)\n",
    "shuffled_admissions = admissions.loc[shuffled_index]\n",
    "train = shuffled_admissions[:515]\n",
    "test = shuffled_admissions[515:]\n",
    "logical_model = LogisticRegression()\n",
    "logical_model.fit(train[[\"gpa\"]],train[\"actual_label\"])\n",
    "test[\"predicted_label\"] = logical_model.predict(test[['gpa']])\n",
    "\n",
    "matches = test['predicted_label'] == test['actual_label']\n",
    "correct_predictions = test[matches]\n",
    "accuracy = len(correct_predictions) / float(len(test))\n",
    "print(accuracy)"
   ]
  },
  {
   "cell_type": "markdown",
   "metadata": {},
   "source": [
    "# Sensitivity and specificity"
   ]
  },
  {
   "cell_type": "code",
   "execution_count": 31,
   "metadata": {
    "collapsed": false
   },
   "outputs": [
    {
     "name": "stdout",
     "output_type": "stream",
     "text": [
      "0.0869565217391\n",
      "0.903614457831\n"
     ]
    }
   ],
   "source": [
    "true_positives = test[(test[\"predicted_label\"] == 1) & (test[\"actual_label\"] == 1)].shape[0]\n",
    "false_negatives = test[(test[\"predicted_label\"] == 0) & (test['actual_label'] == 1)].shape[0]\n",
    "sensitivity = true_positives / float(true_positives + false_negatives)\n",
    "print sensitivity\n",
    "\n",
    "false_positives = test[(test[\"predicted_label\"] == 1) & (test['actual_label'] == 0)].shape[0]\n",
    "true_negatives = test[(test[\"predicted_label\"] == 0) & (test['actual_label'] == 0)].shape[0]\n",
    "specifity = true_negatives / float(true_negatives + false_positives)\n",
    "print specifity"
   ]
  },
  {
   "cell_type": "markdown",
   "metadata": {},
   "source": [
    "# False positive rate\n",
    " If the probability value is larger than 50%, the predicted label is 1 and if it's less than 50%, the predictd label is 0. For most problems, however, 50% is not the optimal discrimination threshold. We need a way to vary the threshold and compute the measures at each threshold. Then, depending on the measure we want to optimize, we can find the appropriate threshold to use for predictions.\n",
    " \n",
    " ### FPR = False Positives / (False Positives + True Negatives)"
   ]
  },
  {
   "cell_type": "markdown",
   "metadata": {},
   "source": [
    "# ROC Curve\n",
    "We can vary the discrimination threshold and calculate the TPR and FPR for each value. This is called an ROC curve, which stands for reciever operator curve, and it allows us to understand a classification model's performance as the discrimination threshold is varied.To calculate the TPR and FPR values at each discrimination threshold, we can use the scikit-learn roc_curve function.\n",
    "\n",
    "This function takes 2 required parameters:\n",
    "- y_true: list of the true labels for the observations,\n",
    "- y_score: list of the model's probability scores for those observations.\n",
    "\n",
    " the roc_curve function returns 3 values which you can assign all at once:\n",
    "- fpr, tpr, thresholds = metrics.roc_curve(labels, probabilities)"
   ]
  },
  {
   "cell_type": "code",
   "execution_count": 33,
   "metadata": {
    "collapsed": false
   },
   "outputs": [
    {
     "data": {
      "image/png": "[encoded data removed]",
      "text/plain": [
       "<matplotlib.figure.Figure at 0x7f6c175b7950>"
      ]
     },
     "metadata": {},
     "output_type": "display_data"
    }
   ],
   "source": [
    "import matplotlib.pyplot as plt\n",
    "%matplotlib inline\n",
    "from sklearn import metrics\n",
    "\n",
    "probabilities = logical_model.predict_proba(test[[\"gpa\"]])\n",
    "fpr,tpr,thresholds = metrics.roc_curve(test[\"actual_label\"],probabilities[:,1])\n",
    "plt.plot(fpr,tpr)\n",
    "plt.show()"
   ]
  },
  {
   "cell_type": "markdown",
   "metadata": {},
   "source": [
    "# Area under the curve\n",
    "When looking at an ROC curve, you want to keep an eye on how the 2 measures trade off and select an appropriate threshold based on your priorities.\n",
    "\n",
    "We can now go one step further and determine the area under the curve or AUC for short.Since the True Positive Rate and the False Positive Rate add upto a 1.0, the AUC will be less than 1.0 as well. The AUC describes the probability that the classifier will rank a random positive observation higher than a random negative observation. Since randomly guessing converges to a probability of 0.5, the higher the AUC the more accurate the model seems to be.\n",
    "\n",
    "To calculate the AUC, we can use the scikit-learn function roc_auc_score, which takes the same parameters as the roc_curve function and returns a single float value corresponding to the AUC."
   ]
  },
  {
   "cell_type": "code",
   "execution_count": 39,
   "metadata": {
    "collapsed": false
   },
   "outputs": [
    {
     "name": "stdout",
     "output_type": "stream",
     "text": [
      "0.61602933473\n"
     ]
    }
   ],
   "source": [
    "from sklearn.metrics import roc_auc_score\n",
    "auc_score = roc_auc_score(test[\"actual_label\"],probabilities[:,1])\n",
    "print(auc_score)"
   ]
  }
 ],
 "metadata": {
  "kernelspec": {
   "display_name": "Python 2",
   "language": "python",
   "name": "python2"
  },
  "language_info": {
   "codemirror_mode": {
    "name": "ipython",
    "version": 2
   },
   "file_extension": ".py",
   "mimetype": "text/x-python",
   "name": "python",
   "nbconvert_exporter": "python",
   "pygments_lexer": "ipython2",
   "version": "2.7.11"
  }
 },
 "nbformat": 4,
 "nbformat_minor": 0
}
