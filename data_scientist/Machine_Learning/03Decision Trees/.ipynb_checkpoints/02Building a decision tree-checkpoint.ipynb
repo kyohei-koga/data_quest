{
 "cells": [
  {
   "cell_type": "code",
   "execution_count": 9,
   "metadata": {
    "collapsed": true
   },
   "outputs": [],
   "source": [
    "import pandas as pd\n",
    "columns = ['age', 'workclass', 'fnlwgt', 'education', 'education_num',\n",
    "           'marital_status', 'occupation', 'relationship', 'race', 'sex',\n",
    "           'capital_gain', 'capital_loss', 'hours_per_week', 'native_country', 'high_income']\n",
    "income = pd.read_csv('adult.data',names=columns)"
   ]
  },
  {
   "cell_type": "code",
   "execution_count": 16,
   "metadata": {
    "collapsed": true
   },
   "outputs": [],
   "source": [
    "target_col = ['workclass','education', 'marital_status', 'occupation', 'relationship', 'race', 'sex', 'native_country', 'high_income']\n",
    "\n",
    "for target in target_col:\n",
    "    col = pd.Categorical.from_array(income[target])\n",
    "    income[target] = col.codes"
   ]
  },
  {
   "cell_type": "code",
   "execution_count": 17,
   "metadata": {
    "collapsed": true
   },
   "outputs": [],
   "source": [
    "import numpy as np\n",
    "import math\n",
    "\n",
    "def calc_entropy(column):\n",
    "    # Compute the counts of each unique value in the column\n",
    "    counts = np.bincount(column)\n",
    "    probabilities = counts/float(len(column))\n",
    "    \n",
    "    entropy = 0\n",
    "    \n",
    "    for prob in probabilities:\n",
    "        if prob > 0:\n",
    "            entropy += prob*math.log(prob,2)\n",
    "            \n",
    "    return -entropy\n",
    "\n",
    "def calc_information_gain(data,split_name,target_name):\n",
    "    #Calculate original entropy.\n",
    "    original_entropy = calc_entropy(data[target_name])\n",
    "    \n",
    "    #Find the median of the column we're spliting\n",
    "    column = data[split_name]\n",
    "    median = column.median()\n",
    "    \n",
    "    left_split = data[column <= median]\n",
    "    right_split = data[column > median]\n",
    "    \n",
    "    #Loop through the splits, and calculate the subset entropy\n",
    "    to_subtract = 0\n",
    "    for subset in [left_split,right_split]:\n",
    "        prob = (subset.shape[0] / float(data.shape[0]))\n",
    "        to_subtract += prob * calc_entropy(subset[target_name])\n",
    "    \n",
    "    #return information gain\n",
    "    return original_entropy - to_subtract"
   ]
  },
  {
   "cell_type": "markdown",
   "metadata": {},
   "source": [
    "# 2: ID3 Algorithm\n",
    "we'll use the ID3 Algorithm for constructing decision trees. This algorithm involves recursion.\n",
    "\n",
    "In general, recursion is the process of splitting a large problem into small chunks. Recursive functions will call themselves, then combine the results to create a final result."
   ]
  },
  {
   "cell_type": "markdown",
   "metadata": {},
   "source": [
    "# 3: Algorithm Example\n",
    "図"
   ]
  },
  {
   "cell_type": "markdown",
   "metadata": {},
   "source": [
    "# 4: Column split selection\n",
    "We now need a function to return the name of the column to split a dataset on. The function should take the dataset, the target column, and a list of columns we might want to split on as input."
   ]
  },
  {
   "cell_type": "code",
   "execution_count": 19,
   "metadata": {
    "collapsed": false
   },
   "outputs": [
    {
     "name": "stdout",
     "output_type": "stream",
     "text": [
      "marital_status\n"
     ]
    }
   ],
   "source": [
    "columns = [\"age\", \"workclass\", \"education_num\", \"marital_status\",\n",
    "           \"occupation\", \"relationship\", \"race\", \"sex\", \"hours_per_week\",\n",
    "           \"native_country\"]\n",
    "\n",
    "def find_best_column(data,target_name,columns):\n",
    "    information_gains = []\n",
    "    for col in columns:\n",
    "        information_gain = calc_information_gain(data,col,'high_income')\n",
    "        information_gains.append(information_gain)\n",
    "        \n",
    "    highest_gain_index = information_gains.index(max(information_gains))\n",
    "    highest_gain = columns[highest_gain_index]\n",
    "    return highest_gain\n",
    "\n",
    "income_split = find_best_column(income,'high_income',columns)\n",
    "\n",
    "print income_split"
   ]
  },
  {
   "cell_type": "markdown",
   "metadata": {},
   "source": [
    "# 5: Creating a simple recursive algorithm"
   ]
  },
  {
   "cell_type": "code",
   "execution_count": 25,
   "metadata": {
    "collapsed": false
   },
   "outputs": [],
   "source": [
    "label_1s = []\n",
    "label_0s = []\n",
    "\n",
    "data = pd.DataFrame({'high_income':[0,0,0,1,1,1],\n",
    "                    'age':[20,60,40,25,35,55],\n",
    "                    'marital_status':[0,2,1,1,2,1]})\n",
    "\n",
    "def id3(data,target,columns):\n",
    "    unique_targets = pd.unique(data[target])\n",
    "    \n",
    "    if len(unique_targets) == 1:\n",
    "        if 0 in unique_targets:\n",
    "            label_0s.append(0)\n",
    "        elif 1 in unique_targets:\n",
    "            label_1s.append(1)\n",
    "        return\n",
    "    \n",
    "    best_column = find_best_column(data,target,columns)\n",
    "    column_median = data[best_column].median()\n",
    "    \n",
    "    left_split = data[data[best_column] <= column_median]\n",
    "    right_split = data[data[best_column] > column_median]\n",
    "    \n",
    "    for split in [left_split,right_split]:\n",
    "        #print split\n",
    "        id3(split,target,columns)\n",
    "        #print '\\n'\n",
    "\n",
    "id3(data,'high_income',['age','marital_status'])"
   ]
  },
  {
   "cell_type": "markdown",
   "metadata": {},
   "source": [
    "# 6: Storing the tree\n",
    "We can now store the entire tree instead of just the labels at the leaves. In order to do this, we'll use nested dictionaries. We can represent the root node with a dictionary, and branches as the keys left and right."
   ]
  },
  {
   "cell_type": "code",
   "execution_count": 26,
   "metadata": {
    "collapsed": true
   },
   "outputs": [],
   "source": [
    "tree = {}\n",
    "nodes = []\n",
    "\n",
    "def id3(data,target,columns,tree):\n",
    "    unique_targets = pd.unique(data[target])\n",
    "    nodes.append(len(nodes)+1)\n",
    "    tree['number'] = nodes[-1]\n",
    "    \n",
    "    if len(unique_targets) == 1:\n",
    "        if 0 in unique_targets:\n",
    "            tree['label'] = 0\n",
    "        elif 1 in unique_targets:\n",
    "            tree['label'] = 1\n",
    "        return\n",
    "    \n",
    "    best_column = find_best_column(data,target,columns)\n",
    "    column_median = data[best_column].median()\n",
    "    \n",
    "    tree['column'] = best_column\n",
    "    tree['median'] = column_median\n",
    "    \n",
    "    left_split = data[data[best_column] <= column_median]\n",
    "    right_split = data[data[best_column] > column_median]\n",
    "    split_dict = [['left',left_split],['right',right_split]]\n",
    "    \n",
    "    for name,split in split_dict:\n",
    "        tree[name] = {}\n",
    "        id3(split,target,columns,tree[name])\n",
    "\n",
    "id3(data,'high_income',['age','marital_status'],tree)"
   ]
  },
  {
   "cell_type": "markdown",
   "metadata": {
    "collapsed": false
   },
   "source": [
    "# 7: A prettier tree\n",
    "The tree dictionary shows all the relevant information, but it doesn't look very good. We can fix this by printing out our dictionary in a nicer way.\n",
    "\n",
    "If we find a dictionary with a label key, then we know it's a leaf, so we print out the label of the leaf. We'll also need to keep track of a depth variable so we can indent the nodes properly to indicate which nodes come before others. When we print out anything, we'll take the depth variable into account by adding space beforehand."
   ]
  },
  {
   "cell_type": "code",
   "execution_count": 30,
   "metadata": {
    "collapsed": false
   },
   "outputs": [
    {
     "name": "stdout",
     "output_type": "stream",
     "text": [
      "age>37.5\n",
      "    age>25.0\n",
      "        age>22.5\n",
      "            Leaf: label0\n",
      "            Leaf: label1\n",
      "        Leaf: label1\n",
      "    age>55.0\n",
      "        age>47.5\n",
      "            Leaf: label0\n",
      "            Leaf: label1\n",
      "        Leaf: label0\n"
     ]
    }
   ],
   "source": [
    "def print_with_depth(string,depth):\n",
    "    # Add space before a string.\n",
    "    prefix = \"    \" * depth\n",
    "    print('{0}{1}'.format(prefix,string))\n",
    "\n",
    "def print_node(tree,depth):\n",
    "    if 'label' in tree:\n",
    "        print_with_depth('Leaf: label{0}'.format(tree['label']),depth)\n",
    "        return\n",
    "    print_with_depth('{0}>{1}'.format(tree['column'],tree['median']),depth)\n",
    "    \n",
    "    for branch in [tree['left'],tree['right']]:\n",
    "        print_node(branch,depth+1)\n",
    "\n",
    "print_node(tree,0)"
   ]
  },
  {
   "cell_type": "markdown",
   "metadata": {},
   "source": [
    "# 9: Automatic predictions"
   ]
  },
  {
   "cell_type": "code",
   "execution_count": 36,
   "metadata": {
    "collapsed": false
   },
   "outputs": [
    {
     "name": "stdout",
     "output_type": "stream",
     "text": [
      "1\n"
     ]
    }
   ],
   "source": [
    "def predict(tree,row):\n",
    "    if 'label' in tree:\n",
    "        return tree['label']\n",
    "    \n",
    "    column = tree['column']\n",
    "    median = tree['median']\n",
    "    if row[column] <= median:\n",
    "        return predict(tree['left'],row)\n",
    "    else:\n",
    "        return predict(tree['right'],row)\n",
    "\n",
    "print(predict(tree,data.iloc[5]))"
   ]
  },
  {
   "cell_type": "markdown",
   "metadata": {},
   "source": [
    "# 10: Making multiple predictions\n",
    "We can use the apply method on Pandas dataframes to apply a function across each row. "
   ]
  },
  {
   "cell_type": "code",
   "execution_count": 39,
   "metadata": {
    "collapsed": false
   },
   "outputs": [
    {
     "name": "stdout",
     "output_type": "stream",
     "text": [
      "0    0\n",
      "1    0\n",
      "2    0\n",
      "3    0\n",
      "4    1\n",
      "5    0\n",
      "dtype: int64\n"
     ]
    }
   ],
   "source": [
    "new_data = pd.DataFrame([\n",
    "    [40,0],\n",
    "    [20,2],\n",
    "    [80,1],\n",
    "    [15,1],\n",
    "    [27,2],\n",
    "    [38,1]\n",
    "    ])\n",
    "\n",
    "new_data.columns = ['age','martial_status']\n",
    "\n",
    "def batch_predict(tree,df):\n",
    "    return df.apply(lambda x: predict(tree,x),axis=1)\n",
    "\n",
    "prediction = batch_predict(tree,new_data)\n",
    "print prediction"
   ]
  },
  {
   "cell_type": "code",
   "execution_count": null,
   "metadata": {
    "collapsed": true
   },
   "outputs": [],
   "source": []
  }
 ],
 "metadata": {
  "kernelspec": {
   "display_name": "Python 2",
   "language": "python",
   "name": "python2"
  },
  "language_info": {
   "codemirror_mode": {
    "name": "ipython",
    "version": 2
   },
   "file_extension": ".py",
   "mimetype": "text/x-python",
   "name": "python",
   "nbconvert_exporter": "python",
   "pygments_lexer": "ipython2",
   "version": "2.7.11"
  }
 },
 "nbformat": 4,
 "nbformat_minor": 0
}
