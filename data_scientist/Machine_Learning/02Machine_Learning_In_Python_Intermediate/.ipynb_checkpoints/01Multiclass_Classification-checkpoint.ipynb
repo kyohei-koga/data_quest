{
 "cells": [
  {
   "cell_type": "markdown",
   "metadata": {},
   "source": [
    "# Introduction To The Data\n",
    "For each car we have information about the technical aspects of the vehicle such as the motor's displacement, the weight of the car, the miles per gallon, and how fast the car accelerates. \n",
    "\n",
    "Using this information we will predict the origin of the vehicle, either North America, Europe, or Asia."
   ]
  },
  {
   "cell_type": "code",
   "execution_count": 18,
   "metadata": {
    "collapsed": false
   },
   "outputs": [
    {
     "name": "stdout",
     "output_type": "stream",
     "text": [
      "[1 3 2]\n"
     ]
    }
   ],
   "source": [
    "import pandas as pd\n",
    "import numpy as np\n",
    "\n",
    "columns_name = [\"mpg\",\"cylinders\",\"displacement\",\"horsepower\",\"weight\",\"acceleration\",\"year\",\"origin\",\"car_name\"]\n",
    "cars = pd.read_csv('auto-mpg.data',delim_whitespace=True,names=columns_name)\n",
    "unique_regions = cars['origin'].unique()\n",
    "print(unique_regions)"
   ]
  },
  {
   "cell_type": "markdown",
   "metadata": {},
   "source": [
    "# Dummy Variables\n",
    "In many cases you'll have to create numeric representation of categorical values yourself.\n",
    "\n",
    "We must use dummy variables for columns containing categorical values.Whenever we have more than 2 categories, we need to create more columns to represent the categories. Since we have 5 different categories of cylinders, we could use 3, 4, 5, 6, and 8 to represent the different categories. We can split the column into separate binary columns.\n",
    "\n",
    "We can use the Pandas function get_dummies to return a Dataframe containing binary columns from the values in the cylinders column.\n",
    "\n",
    "We then use the Pandas function concat to add the columns from this Dataframe back to cars."
   ]
  },
  {
   "cell_type": "code",
   "execution_count": 19,
   "metadata": {
    "collapsed": false
   },
   "outputs": [
    {
     "name": "stdout",
     "output_type": "stream",
     "text": [
      "    mpg  cylinders  displacement horsepower  weight  acceleration  year  \\\n",
      "0  18.0          8         307.0      130.0  3504.0          12.0    70   \n",
      "1  15.0          8         350.0      165.0  3693.0          11.5    70   \n",
      "2  18.0          8         318.0      150.0  3436.0          11.0    70   \n",
      "3  16.0          8         304.0      150.0  3433.0          12.0    70   \n",
      "4  17.0          8         302.0      140.0  3449.0          10.5    70   \n",
      "\n",
      "   origin                   car_name  cyl_3   ...     year_73  year_74  \\\n",
      "0       1  chevrolet chevelle malibu    0.0   ...         0.0      0.0   \n",
      "1       1          buick skylark 320    0.0   ...         0.0      0.0   \n",
      "2       1         plymouth satellite    0.0   ...         0.0      0.0   \n",
      "3       1              amc rebel sst    0.0   ...         0.0      0.0   \n",
      "4       1                ford torino    0.0   ...         0.0      0.0   \n",
      "\n",
      "   year_75  year_76  year_77  year_78  year_79  year_80  year_81  year_82  \n",
      "0      0.0      0.0      0.0      0.0      0.0      0.0      0.0      0.0  \n",
      "1      0.0      0.0      0.0      0.0      0.0      0.0      0.0      0.0  \n",
      "2      0.0      0.0      0.0      0.0      0.0      0.0      0.0      0.0  \n",
      "3      0.0      0.0      0.0      0.0      0.0      0.0      0.0      0.0  \n",
      "4      0.0      0.0      0.0      0.0      0.0      0.0      0.0      0.0  \n",
      "\n",
      "[5 rows x 27 columns]\n"
     ]
    }
   ],
   "source": [
    "dummy_cylinders = pd.get_dummies(cars['cylinders'],prefix='cyl')\n",
    "cars = pd.concat([cars,dummy_cylinders],axis=1)\n",
    "\n",
    "dummy_years = pd.get_dummies(cars['year'],prefix='year')\n",
    "cars = pd.concat([cars,dummy_years],axis=1)\n",
    "cars.drop('year',axis=1)\n",
    "cars.drop('cylinders',axis=1)\n",
    "print(cars.head())"
   ]
  },
  {
   "cell_type": "markdown",
   "metadata": {},
   "source": [
    "# Multiclass Classification\n",
    "When we have 3 or more categories, we call the problem a multiclass classification problem.There are a few different methods of doing multiclass classification and in this mission, we'll focus on the one-versus-all method.\n",
    "\n",
    "The one-versus-all method is a technique where we choose a single category as the Positive case and group the rest of the categories as the False case. We're essentially splitting the problem into multiple binary classification problems. For each observation, the model will then output the probability of belonging to each category."
   ]
  },
  {
   "cell_type": "code",
   "execution_count": 22,
   "metadata": {
    "collapsed": false
   },
   "outputs": [],
   "source": [
    "shuffled_rows = np.random.permutation(cars.index)\n",
    "shuffled_cars = cars.iloc[shuffled_rows]\n",
    "train = shuffled_cars[0:int(cars.shape[0]*0.7)]\n",
    "test = shuffled_cars[int(cars.shape[0]*0.7):]"
   ]
  },
  {
   "cell_type": "markdown",
   "metadata": {},
   "source": [
    "# Training A Multiclass Logistic Regression Model\n",
    "In the one-vs-all approach, we're essentially converting an n-class (in our case n is 3) classification problem into n binary classification problems. For our case, we'll need to train 3 models:\n",
    "- A model where all cars built in North America are considered Positive (1) and those built in Europe and Asia are considered Negative (0).\n",
    "- A model where all cars built in Europe are considered Positive (1) and those built in North America and Asia are considered Negative (0).\n",
    "- A model where all cars built in Asia are labeled Positive (1) and those built in North America and Europe are considered Negative (0).\n",
    "\n",
    "For each observation, we choose the label corresponding to the model that predicted the highest probability.\n",
    "\n",
    "We'll use the binary features we created from the cylinders and year columns to train 3 models using the LogisticRegression class from scikit-learn."
   ]
  },
  {
   "cell_type": "code",
   "execution_count": 28,
   "metadata": {
    "collapsed": false
   },
   "outputs": [],
   "source": [
    "from sklearn.linear_model import LogisticRegression\n",
    "\n",
    "unique_origins = cars['origin'].unique() #countries where made in\n",
    "unique_origins.sort()\n",
    "\n",
    "models = {}\n",
    "features = [c for c in train.columns if c.startswith('cyl') or c.startswith('year')]\n",
    "\n",
    "for origin in unique_origins:\n",
    "    model = LogisticRegression()\n",
    "    \n",
    "    X_train = train[features]\n",
    "    y_train = train['origin'] == origin\n",
    "    \n",
    "    model.fit(X_train,y_train)\n",
    "    models[origin] = model"
   ]
  },
  {
   "cell_type": "markdown",
   "metadata": {},
   "source": [
    "# Testing The Models"
   ]
  },
  {
   "cell_type": "code",
   "execution_count": 37,
   "metadata": {
    "collapsed": false
   },
   "outputs": [],
   "source": [
    "testing_probs = pd.DataFrame(columns=unique_origins)\n",
    "for origin in unique_origins:\n",
    "    X_test = test[features]\n",
    "    testing_probs[origin] = models[origin].predict_proba(X_test)[:,1] #1 indicates positive probability"
   ]
  },
  {
   "cell_type": "markdown",
   "metadata": {},
   "source": [
    "# Choose The Origin\n",
    "To classify each observation we want to select the origin with the highest probability of classification for that observation.\n",
    "\n",
    "While each column in our dataframe testing_probs represents an origin we just need to choose the one with the largest probability. We can use the Dataframe method .idxmax() to return a Series where each value corresponds to the column or where the maximum value occurs for that observation. We need to make sure to set the axis paramater to 1 since we want to calculate the maximum value across columns."
   ]
  },
  {
   "cell_type": "code",
   "execution_count": 40,
   "metadata": {
    "collapsed": false
   },
   "outputs": [
    {
     "name": "stdout",
     "output_type": "stream",
     "text": [
      "0      3\n",
      "1      1\n",
      "2      1\n",
      "3      1\n",
      "4      1\n",
      "5      3\n",
      "6      1\n",
      "7      3\n",
      "8      1\n",
      "9      1\n",
      "10     3\n",
      "11     1\n",
      "12     2\n",
      "13     1\n",
      "14     1\n",
      "15     3\n",
      "16     3\n",
      "17     2\n",
      "18     1\n",
      "19     1\n",
      "20     1\n",
      "21     1\n",
      "22     3\n",
      "23     1\n",
      "24     1\n",
      "25     1\n",
      "26     2\n",
      "27     2\n",
      "28     3\n",
      "29     1\n",
      "      ..\n",
      "90     1\n",
      "91     1\n",
      "92     3\n",
      "93     1\n",
      "94     1\n",
      "95     1\n",
      "96     1\n",
      "97     1\n",
      "98     3\n",
      "99     2\n",
      "100    1\n",
      "101    1\n",
      "102    3\n",
      "103    2\n",
      "104    2\n",
      "105    1\n",
      "106    2\n",
      "107    2\n",
      "108    1\n",
      "109    1\n",
      "110    2\n",
      "111    3\n",
      "112    1\n",
      "113    1\n",
      "114    1\n",
      "115    3\n",
      "116    1\n",
      "117    3\n",
      "118    1\n",
      "119    1\n",
      "dtype: int64\n"
     ]
    }
   ],
   "source": [
    "predicted_origins = testing_probs.idxmax(axis=1)\n",
    "print(predicted_origins)"
   ]
  },
  {
   "cell_type": "code",
   "execution_count": null,
   "metadata": {
    "collapsed": true
   },
   "outputs": [],
   "source": []
  }
 ],
 "metadata": {
  "kernelspec": {
   "display_name": "Python 2",
   "language": "python",
   "name": "python2"
  },
  "language_info": {
   "codemirror_mode": {
    "name": "ipython",
    "version": 2
   },
   "file_extension": ".py",
   "mimetype": "text/x-python",
   "name": "python",
   "nbconvert_exporter": "python",
   "pygments_lexer": "ipython2",
   "version": "2.7.11"
  }
 },
 "nbformat": 4,
 "nbformat_minor": 0
}
