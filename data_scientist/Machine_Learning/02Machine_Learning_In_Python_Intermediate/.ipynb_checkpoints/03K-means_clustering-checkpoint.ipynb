{
 "cells": [
  {
   "cell_type": "code",
   "execution_count": 1,
   "metadata": {
    "collapsed": false
   },
   "outputs": [
    {
     "data": {
      "text/html": [
       "<div>\n",
       "<table border=\"1\" class=\"dataframe\">\n",
       "  <thead>\n",
       "    <tr style=\"text-align: right;\">\n",
       "      <th></th>\n",
       "      <th>player</th>\n",
       "      <th>pos</th>\n",
       "      <th>age</th>\n",
       "      <th>bref_team_id</th>\n",
       "      <th>g</th>\n",
       "      <th>gs</th>\n",
       "      <th>mp</th>\n",
       "      <th>fg</th>\n",
       "      <th>fga</th>\n",
       "      <th>fg.</th>\n",
       "      <th>...</th>\n",
       "      <th>drb</th>\n",
       "      <th>trb</th>\n",
       "      <th>ast</th>\n",
       "      <th>stl</th>\n",
       "      <th>blk</th>\n",
       "      <th>tov</th>\n",
       "      <th>pf</th>\n",
       "      <th>pts</th>\n",
       "      <th>season</th>\n",
       "      <th>season_end</th>\n",
       "    </tr>\n",
       "  </thead>\n",
       "  <tbody>\n",
       "    <tr>\n",
       "      <th>0</th>\n",
       "      <td>Quincy Acy</td>\n",
       "      <td>SF</td>\n",
       "      <td>23</td>\n",
       "      <td>TOT</td>\n",
       "      <td>63</td>\n",
       "      <td>0</td>\n",
       "      <td>847</td>\n",
       "      <td>66</td>\n",
       "      <td>141</td>\n",
       "      <td>0.468</td>\n",
       "      <td>...</td>\n",
       "      <td>144</td>\n",
       "      <td>216</td>\n",
       "      <td>28</td>\n",
       "      <td>23</td>\n",
       "      <td>26</td>\n",
       "      <td>30</td>\n",
       "      <td>122</td>\n",
       "      <td>171</td>\n",
       "      <td>2013-2014</td>\n",
       "      <td>2013</td>\n",
       "    </tr>\n",
       "    <tr>\n",
       "      <th>1</th>\n",
       "      <td>Steven Adams</td>\n",
       "      <td>C</td>\n",
       "      <td>20</td>\n",
       "      <td>OKC</td>\n",
       "      <td>81</td>\n",
       "      <td>20</td>\n",
       "      <td>1197</td>\n",
       "      <td>93</td>\n",
       "      <td>185</td>\n",
       "      <td>0.503</td>\n",
       "      <td>...</td>\n",
       "      <td>190</td>\n",
       "      <td>332</td>\n",
       "      <td>43</td>\n",
       "      <td>40</td>\n",
       "      <td>57</td>\n",
       "      <td>71</td>\n",
       "      <td>203</td>\n",
       "      <td>265</td>\n",
       "      <td>2013-2014</td>\n",
       "      <td>2013</td>\n",
       "    </tr>\n",
       "    <tr>\n",
       "      <th>2</th>\n",
       "      <td>Jeff Adrien</td>\n",
       "      <td>PF</td>\n",
       "      <td>27</td>\n",
       "      <td>TOT</td>\n",
       "      <td>53</td>\n",
       "      <td>12</td>\n",
       "      <td>961</td>\n",
       "      <td>143</td>\n",
       "      <td>275</td>\n",
       "      <td>0.520</td>\n",
       "      <td>...</td>\n",
       "      <td>204</td>\n",
       "      <td>306</td>\n",
       "      <td>38</td>\n",
       "      <td>24</td>\n",
       "      <td>36</td>\n",
       "      <td>39</td>\n",
       "      <td>108</td>\n",
       "      <td>362</td>\n",
       "      <td>2013-2014</td>\n",
       "      <td>2013</td>\n",
       "    </tr>\n",
       "  </tbody>\n",
       "</table>\n",
       "<p>3 rows × 31 columns</p>\n",
       "</div>"
      ],
      "text/plain": [
       "         player pos  age bref_team_id   g  gs    mp   fg  fga    fg.  \\\n",
       "0    Quincy Acy  SF   23          TOT  63   0   847   66  141  0.468   \n",
       "1  Steven Adams   C   20          OKC  81  20  1197   93  185  0.503   \n",
       "2   Jeff Adrien  PF   27          TOT  53  12   961  143  275  0.520   \n",
       "\n",
       "      ...      drb  trb  ast  stl  blk  tov   pf  pts     season  season_end  \n",
       "0     ...      144  216   28   23   26   30  122  171  2013-2014        2013  \n",
       "1     ...      190  332   43   40   57   71  203  265  2013-2014        2013  \n",
       "2     ...      204  306   38   24   36   39  108  362  2013-2014        2013  \n",
       "\n",
       "[3 rows x 31 columns]"
      ]
     },
     "execution_count": 1,
     "metadata": {},
     "output_type": "execute_result"
    }
   ],
   "source": [
    "import pandas as pd\n",
    "import numpy as np\n",
    "\n",
    "nba = pd.read_csv(\"nba_2013.csv\")\n",
    "nba.head(3)"
   ]
  },
  {
   "cell_type": "markdown",
   "metadata": {},
   "source": [
    "# Point Guards\n",
    "We are going to focus our lesson on a machine learning technique called clustering, which allows us to visualize the types of point guards as well as group similar point guards together.\n",
    "\n",
    "Using 2 features allows us to easily visualize the players and will also make it easier to grasp how clustering works.\n",
    "\n"
   ]
  },
  {
   "cell_type": "code",
   "execution_count": 2,
   "metadata": {
    "collapsed": true
   },
   "outputs": [],
   "source": [
    "point_guards = nba[nba[\"pos\"] == 'PG']"
   ]
  },
  {
   "cell_type": "markdown",
   "metadata": {},
   "source": [
    "# Points Per Game"
   ]
  },
  {
   "cell_type": "code",
   "execution_count": 3,
   "metadata": {
    "collapsed": false
   },
   "outputs": [
    {
     "name": "stderr",
     "output_type": "stream",
     "text": [
      "/home/kyohei/anaconda2/lib/python2.7/site-packages/ipykernel/__main__.py:1: SettingWithCopyWarning: \n",
      "A value is trying to be set on a copy of a slice from a DataFrame.\n",
      "Try using .loc[row_indexer,col_indexer] = value instead\n",
      "\n",
      "See the caveats in the documentation: http://pandas.pydata.org/pandas-docs/stable/indexing.html#indexing-view-versus-copy\n",
      "  if __name__ == '__main__':\n"
     ]
    }
   ],
   "source": [
    "point_guards['ppg'] = point_guards['pts'] / point_guards['g']"
   ]
  },
  {
   "cell_type": "markdown",
   "metadata": {},
   "source": [
    "# Assist Turnover Ratio"
   ]
  },
  {
   "cell_type": "code",
   "execution_count": 4,
   "metadata": {
    "collapsed": false
   },
   "outputs": [],
   "source": [
    "point_guards = point_guards[point_guards['tov'] != 0]\n",
    "point_guards['atr'] = point_guards['ast'] / point_guards['tov']"
   ]
  },
  {
   "cell_type": "markdown",
   "metadata": {},
   "source": [
    "# Visualizing the Point Guards"
   ]
  },
  {
   "cell_type": "code",
   "execution_count": 5,
   "metadata": {
    "collapsed": false
   },
   "outputs": [
    {
     "data": {
      "image/png": "[encoded data removed]",
      "text/plain": [
       "<matplotlib.figure.Figure at 0x7f361451e750>"
      ]
     },
     "metadata": {},
     "output_type": "display_data"
    }
   ],
   "source": [
    "import matplotlib.pyplot as plt\n",
    "%matplotlib inline\n",
    "plt.scatter(point_guards['ppg'],point_guards['atr'],c='y')\n",
    "plt.xlabel('Points Per Game',fontsize=13)\n",
    "plt.ylabel('Assist Turnover Ratio',fontsize=13)\n",
    "plt.style.use('bmh')\n",
    "plt.show()"
   ]
  },
  {
   "cell_type": "markdown",
   "metadata": {},
   "source": [
    "# Clustering players\n",
    "we need to instead use unsupervised machine learning techniques to explore the structure within a data set that doesn't have a clear value to optimize.\n",
    "\n",
    "There are multiple ways of clustering data but here we will focus on centroid based clustering for this lesson.\n",
    "\n",
    "The key part with K-Means (and most unsupervised machine learning techniques) is that we have to specify what k is. There are advantages and disadvantages to this, but one advantage is that we can pick the k that makes the most sense for our use case."
   ]
  },
  {
   "cell_type": "markdown",
   "metadata": {},
   "source": [
    "# The Algorithm\n",
    "Setup K-Means is an iterative algorithm that switches between recalculating the centroid of each cluster and the players that belong to that cluster.To start, select 5 players at random and assign their coordinates as the initial centroids of the just created clusters.\n",
    "\n",
    "Step 1 (Assign Points to Clusters) For each player, calculate the Euclidean distance between that player's coordinates, or values for atr & ppg, and each of the centroids' coordinates. Assign the player to the cluster whose centroid is the closest to, or has the lowest Euclidean distance to, the player's values.\n",
    "\n",
    "Step 2 (Update New Centroids of the Clusters) For each cluster, compute the new centroid by calculating the arithmetic mean of all of the points (players) in that cluster. We calculate the arithmetic mean by taking the average of all of the X values (atr) and the average of all of the Y values (ppg) of the points in that cluster.\n",
    "\n",
    "\n"
   ]
  },
  {
   "cell_type": "code",
   "execution_count": 6,
   "metadata": {
    "collapsed": false
   },
   "outputs": [],
   "source": [
    "num_clusters = 5\n",
    "random_initial_points = np.random.choice(point_guards.index,size=num_clusters)\n",
    "centroids = point_guards.ix[random_initial_points]"
   ]
  },
  {
   "cell_type": "markdown",
   "metadata": {},
   "source": [
    "# Visualize Centroids"
   ]
  },
  {
   "cell_type": "code",
   "execution_count": 7,
   "metadata": {
    "collapsed": false
   },
   "outputs": [
    {
     "data": {
      "image/png": "[encoded data removed]",
      "text/plain": [
       "<matplotlib.figure.Figure at 0x7f361b152c50>"
      ]
     },
     "metadata": {},
     "output_type": "display_data"
    }
   ],
   "source": [
    "plt.scatter(point_guards['ppg'],point_guards['atr'],c='y')\n",
    "plt.scatter(centroids['ppg'],centroids['atr'],c='r')\n",
    "plt.title('Centroids')\n",
    "plt.xlabel('Points Per Game',fontsize=13)\n",
    "plt.ylabel('Assist Turnover Ratio',fontsize=13)\n",
    "plt.show()"
   ]
  },
  {
   "cell_type": "markdown",
   "metadata": {},
   "source": [
    "# Setup (continued)\n",
    "Moving forward, let's use a dictionary object instead to represent the centroids.\n",
    "\n",
    "We will need a unique identifier, like cluster_id, to refer to each cluster's centroid and a list representation of the centroid's coordinates (or values for ppg and atr). \n",
    "\n",
    "To generate the cluster_ids, let's iterate through each centroid and assign an integer from 0 to k-1. For example, the first centroid will have a cluster_id of 0, while the second one will have a cluster_id of 1.\n",
    "\n"
   ]
  },
  {
   "cell_type": "code",
   "execution_count": 18,
   "metadata": {
    "collapsed": false
   },
   "outputs": [],
   "source": [
    "def centroids_to_dict(centroids):\n",
    "    dictionary = dict()\n",
    "    counter = 0\n",
    "    \n",
    "    for index,row in centroids.iterrows():\n",
    "        coordinates = [row['ppg'],row['atr']]\n",
    "        dictionary[counter] =coordinates\n",
    "        counter += 1\n",
    "        \n",
    "    return dictionary\n",
    "\n",
    "centroids_dict = centroids_to_dict(centroids)"
   ]
  },
  {
   "cell_type": "markdown",
   "metadata": {},
   "source": [
    "# Step 1 (Euclidean Distance)\n",
    "While in higher dimensions, Euclidean distance can be misleading, in 2 dimensions Euclidean distance is essentially the Pythagorean theorem. "
   ]
  },
  {
   "cell_type": "code",
   "execution_count": 19,
   "metadata": {
    "collapsed": false
   },
   "outputs": [
    {
     "name": "stdout",
     "output_type": "stream",
     "text": [
      "2.2360679775\n"
     ]
    }
   ],
   "source": [
    "import math\n",
    "\n",
    "def calculate_distance(centroid,player_values):\n",
    "    root_distance = 0\n",
    "    \n",
    "    for x in range(0,len(centroid)):\n",
    "        difference = centroid[x] - player_values[x]\n",
    "        squared_difference = difference ** 2\n",
    "        root_distance += squared_difference\n",
    "    \n",
    "    euclid_distance = math.sqrt(root_distance)\n",
    "    return euclid_distance\n",
    "\n",
    "q = [5,2]\n",
    "p = [3,1]\n",
    "\n",
    "print(calculate_distance(q,p))"
   ]
  },
  {
   "cell_type": "markdown",
   "metadata": {},
   "source": [
    "# Step 1 (Continued)\n",
    "Now we need a way to assign data points to clusters based on Euclidean distance. Instead of creating a new variable or data structure to house the clusters, let's keep things simple and just add a column to the point_guards data frame that contains the cluster_id of the cluster it belongs to."
   ]
  },
  {
   "cell_type": "code",
   "execution_count": 20,
   "metadata": {
    "collapsed": false
   },
   "outputs": [],
   "source": [
    "def assign_to_cluster(row):\n",
    "    lowest_distance = -1\n",
    "    closest_cluster = -1\n",
    "    \n",
    "    for cluster_id,centroid in centroids_dict.items():\n",
    "        df_row = [row['ppg'],row['atr']] #position\n",
    "        euclidean_distance = calculate_distance(centroid,df_row) #calculate distance\n",
    "        \n",
    "        if lowest_distance == -1:\n",
    "            lowest_distance = euclidean_distance\n",
    "            closest_cluster = cluster_id\n",
    "        elif euclidean_distance < lowest_distance:\n",
    "            lowest_distance = euclidean_distance\n",
    "            closest_cluster = cluster_id\n",
    "    \n",
    "    return closest_cluster\n",
    "\n",
    "point_guards['cluster'] = point_guards.apply(lambda row: assign_to_cluster(row),axis=1)\n"
   ]
  },
  {
   "cell_type": "markdown",
   "metadata": {},
   "source": [
    "# Visualizing Clusters\n",
    "Let's write a function, visualize_clusters, that we can use to visualize the clusters easily."
   ]
  },
  {
   "cell_type": "code",
   "execution_count": 21,
   "metadata": {
    "collapsed": false
   },
   "outputs": [
    {
     "data": {
      "image/png": "[encoded data removed]",
      "text/plain": [
       "<matplotlib.figure.Figure at 0x7f3611ddd1d0>"
      ]
     },
     "metadata": {},
     "output_type": "display_data"
    }
   ],
   "source": [
    "def visualize_clusters(df,num_clusters):\n",
    "    colors = ['b','g','r','c','m','y','k']\n",
    "    \n",
    "    for n in range(num_clusters):\n",
    "        clustered_df = df[df['cluster'] == n]\n",
    "        plt.scatter(clustered_df['ppg'],clustered_df['atr'],c=colors[n-1])\n",
    "    plt.xlabel('Points Per Game',fontsize=13)\n",
    "    plt.ylabel('Assist Turnover Ratio',fontsize=13)\n",
    "    plt.show()\n",
    "    \n",
    "visualize_clusters(point_guards,5)\n"
   ]
  },
  {
   "cell_type": "markdown",
   "metadata": {},
   "source": [
    "# Step 2\n",
    "Now let's code Step 2, where we recalculate the centroids for each cluster."
   ]
  },
  {
   "cell_type": "code",
   "execution_count": 25,
   "metadata": {
    "collapsed": false
   },
   "outputs": [],
   "source": [
    "def recalculate_centroids(df):\n",
    "    new_centroids_dict = dict()\n",
    "    \n",
    "    for cluster_id in range(0,num_clusters):\n",
    "        values_in_cluster = df[df['cluster'] == cluster_id]\n",
    "        new_centroid = [np.average(values_in_cluster['ppg']),\n",
    "                         np.average(values_in_cluster['atr'])]\n",
    "        new_centroids_dict[cluster_id] = new_centroid\n",
    "    return new_centroids_dict\n",
    "\n",
    "centroids_dict = recalculate_centroids(point_guards)"
   ]
  },
  {
   "cell_type": "markdown",
   "metadata": {},
   "source": [
    "# Repeat Step 1\n",
    "Now that we recalculated the centroids, let's re-run Step 1 (assign_to_cluster) and see how the clusters shifted."
   ]
  },
  {
   "cell_type": "code",
   "execution_count": 26,
   "metadata": {
    "collapsed": false
   },
   "outputs": [
    {
     "data": {
      "image/png": "[encoded data removed]",
      "text/plain": [
       "<matplotlib.figure.Figure at 0x7f36119af050>"
      ]
     },
     "metadata": {},
     "output_type": "display_data"
    }
   ],
   "source": [
    "point_guards['cluster'] = point_guards.apply(lambda row: assign_to_cluster(row),axis=1)\n",
    "visualize_clusters(point_guards,num_clusters)"
   ]
  },
  {
   "cell_type": "markdown",
   "metadata": {},
   "source": [
    "# Repeat Step 2 and Step 1\n",
    "Now we need to recalculate the centroids, and shift the clusters again."
   ]
  },
  {
   "cell_type": "code",
   "execution_count": 27,
   "metadata": {
    "collapsed": false
   },
   "outputs": [
    {
     "data": {
      "image/png": "[encoded data removed]",
      "text/plain": [
       "<matplotlib.figure.Figure at 0x7f3611b506d0>"
      ]
     },
     "metadata": {},
     "output_type": "display_data"
    }
   ],
   "source": [
    "centroids_dict = recalculate_centroids(point_guards)\n",
    "point_guards['cluster'] = point_guards.apply(lambda row:assign_to_cluster(row),axis=1)\n",
    "visualize_clusters(point_guards,num_clusters)"
   ]
  },
  {
   "cell_type": "markdown",
   "metadata": {},
   "source": [
    "# Challenges of K-Means\n",
    "the clusters visually look like they don't move a lot after every iteration. This means 2 things:\n",
    "- K-Means doesn't cause massive changes in the makeup of clusters between iterations, meaning that it will always converge and become stable\n",
    "- Because K-Means is conservative between iterations, where we pick the initial centroids and how we assign the players to clusters initially matters a lot\n",
    "\n",
    "To counteract these problems, the sklearn implementation of K-Means does some intelligent things like re-running the entire clustering process lots of times with random initial centroids so the final results are a little less biased on one passthrough's initial centroids."
   ]
  },
  {
   "cell_type": "code",
   "execution_count": 30,
   "metadata": {
    "collapsed": false
   },
   "outputs": [
    {
     "data": {
      "image/png": "[encoded data removed]",
      "text/plain": [
       "<matplotlib.figure.Figure at 0x7f360676b990>"
      ]
     },
     "metadata": {},
     "output_type": "display_data"
    }
   ],
   "source": [
    "from sklearn.cluster import KMeans\n",
    "\n",
    "kmeans = KMeans(n_clusters=num_clusters)\n",
    "kmeans.fit(point_guards[['ppg','atr']])\n",
    "point_guards['cluster'] = kmeans.labels_\n",
    "\n",
    "visualize_clusters(point_guards,num_clusters)"
   ]
  }
 ],
 "metadata": {
  "kernelspec": {
   "display_name": "Python 2",
   "language": "python",
   "name": "python2"
  },
  "language_info": {
   "codemirror_mode": {
    "name": "ipython",
    "version": 2
   },
   "file_extension": ".py",
   "mimetype": "text/x-python",
   "name": "python",
   "nbconvert_exporter": "python",
   "pygments_lexer": "ipython2",
   "version": "2.7.11"
  }
 },
 "nbformat": 4,
 "nbformat_minor": 0
}
