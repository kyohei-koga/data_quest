{
 "cells": [
  {
   "cell_type": "markdown",
   "metadata": {},
   "source": [
    "# Neural Networks And Iris Flowers\n",
    "Many machine learning prediction problems are rooted in complex data and its non-linear relationships between features. Neural networks are a class of models that can learn these non-linear interactions between variables."
   ]
  },
  {
   "cell_type": "code",
   "execution_count": 17,
   "metadata": {
    "collapsed": false
   },
   "outputs": [
    {
     "name": "stdout",
     "output_type": "stream",
     "text": [
      "    sepal_length  sepal_width  petal_length  petal_width          species\n",
      "13           4.3          3.0           1.1          0.1      Iris-setosa\n",
      "95           5.7          3.0           4.2          1.2  Iris-versicolor\n"
     ]
    },
    {
     "data": {
      "image/png": "[encoded data removed]",
      "text/plain": [
       "<matplotlib.figure.Figure at 0x7f282a9ff2d0>"
      ]
     },
     "metadata": {},
     "output_type": "display_data"
    }
   ],
   "source": [
    "%matplotlib inline\n",
    "import pandas as pd\n",
    "import matplotlib.pyplot as plt\n",
    "import numpy as np\n",
    "\n",
    "names = ['sepal_length','sepal_width','petal_length','petal_width','species']\n",
    "iris = pd.read_csv(\"iris.data\",names=names)\n",
    "\n",
    "shuffled_rows = np.random.permutation(iris.index)\n",
    "iris = iris.iloc[shuffled_rows,:]\n",
    "\n",
    "print(iris.head(2))\n",
    "\n",
    "iris.hist()\n",
    "plt.show()"
   ]
  },
  {
   "cell_type": "markdown",
   "metadata": {},
   "source": [
    "# Neurons\n",
    "So far we have talked about methods which do not allow for a large amount of non-linearity.\n",
    "図\n",
    "\n",
    "Neither a linear model nor logistic model is capable of building such a function, so we must explore other options like neural networks. \n",
    "\n",
    "Neural networks are very loosely inspired by the structure of neurons in the human brain. These models are built by using a series of activation units, known as neurons, to make predictions of some outcome. Neurons take in some input, apply a transformation function, and return an output. Below we see a representation of a neuron. 図\n",
    "\n",
    "This neuron is taking in 5 units represented as x, a bias unit, and 4 features. This bias unit (1) is similar in concept to the intercept in linear regression and it will shift the activity of the neuron to one direction or the other. These units are then fed into an activation function h. We will use the popular sigmoid (logistic) activation function because it returns values between 0 and 1 and can be treated as probabilities. \n",
    "\n",
    "$$\\text{Sigmoid Function: }g(z) = \\dfrac{1}{1 + e^{-z}}$$\n",
    "\n",
    "This sigmoid function then leads to the corresponding activation function: \n",
    "\n",
    "$$\\text{Sigmoid Activation Function: }h_{\\Theta}(x) = \\dfrac{1}{1+e^{-\\Theta^T x}} = \\dfrac{1}{1+e^{-(\\theta_01 + \\theta_1x_1 + \\theta_2 x_2)}}$$\n",
    "\n",
    "If you look closely, you might notice that the logistic regression function we learned in previous lessons can be represented here as a neuron."
   ]
  },
  {
   "cell_type": "code",
   "execution_count": 32,
   "metadata": {
    "collapsed": false
   },
   "outputs": [
    {
     "name": "stdout",
     "output_type": "stream",
     "text": [
      "[[17]]\n",
      "[ 0.47068392]\n"
     ]
    }
   ],
   "source": [
    "z = np.asarray([[9,5,4]])\n",
    "y = np.asarray([[-1,2,4]])\n",
    "\n",
    "#np.dot is used for matrix multiplication\n",
    "print(np.dot(z,y.T))\n",
    "\n",
    "iris['ones'] = np.ones(iris.shape[0])\n",
    "X = iris[['ones','sepal_length','sepal_width','petal_length','petal_width']].values\n",
    "y = (iris.species == 'Iris-versicolor').values.astype(int)\n",
    "\n",
    "x0 = X[0]\n",
    "\n",
    "theta_init = np.random.normal(0,0.01,size=(5,1))\n",
    "\n",
    "def sigmoid_activation(x,theta):\n",
    "    x = np.asarray(x)\n",
    "    theta = np.asarray(theta)\n",
    "    return 1. / (1. + np.exp(-np.dot(theta.T,x)))\n",
    "\n",
    "a1 = sigmoid_activation(x0,theta_init)\n",
    "print a1"
   ]
  },
  {
   "cell_type": "code",
   "execution_count": 39,
   "metadata": {
    "collapsed": false
   },
   "outputs": [
    {
     "name": "stdout",
     "output_type": "stream",
     "text": [
      "[[ -7.44210702e-03  -2.43188850e-02  -6.65800577e-05  -3.09870290e-03\n",
      "   -1.77733057e-02]]\n"
     ]
    }
   ],
   "source": [
    "print theta_init.T"
   ]
  },
  {
   "cell_type": "markdown",
   "metadata": {},
   "source": [
    "# Cost function\n",
    "We can train a single neuron as a two layer network using gradient descent. The cost function measures the difference between the desired output and actual output, defined as: \n",
    "\n",
    "$$J(\\Theta) = -\\dfrac{1}{m} \\sum_{i=1}^{m} (y_i * log(h_{\\Theta}(x_i)) + (1-y_i) log(1-h_{\\Theta}(x_i)))$$\n",
    "\n",
    "Since our targets, yi, are binary, either yi or (1−yi) will equal zero. One of the terms in the summation will disappear because of this result and.the activation function is then used to compute the error. "
   ]
  },
  {
   "cell_type": "code",
   "execution_count": 71,
   "metadata": {
    "collapsed": false
   },
   "outputs": [],
   "source": [
    "x0 = X[0]\n",
    "y0 = y[0]\n",
    "\n",
    "#initialize parametrs, we have 5 units and just 1 layer\n",
    "theta_init = np.random.normal(0,0.01,size=(5,1))\n",
    "\n",
    "def singlecost(X,y,theta):\n",
    "    h = sigmoid_activation(X.T,theta)\n",
    "    cal = -np.mean(y*np.log(h) + (1-y)*np.log(1-h))\n",
    "    return cal\n",
    "\n",
    "first_cost = singlecost(x0,y0,theta_init)"
   ]
  },
  {
   "cell_type": "markdown",
   "metadata": {},
   "source": [
    "# Compute the Gradients\n",
    " Calculating derivatives are more complicated in neural networks than in linear regression. Here we must compute the overall error and then distribute that error to each parameter. Compute the derivative using the chain rule.\n",
    " \n",
    " $$\\dfrac{\\partial J}{\\partial \\theta_j} = \\dfrac{\\partial J}{\\partial h(\\Theta)} \\dfrac{\\partial h(\\Theta)}{\\partial \\theta_j}$$\n",
    " \n",
    " The first part is computing the error between the target variable and prediction.The second part then computes the sensitivity relative to each parameter. In the end, the gradients are computed as:\n",
    " \n",
    " $$\\delta = (y_i - h_\\Theta(x_i)) * h_\\Theta(x_i) * (1-h_\\Theta(x_i)) * x_i$$\n",
    " \n",
    " Now we will step through the math. (yi−hΘ(xi)) is a scalar and the error between our target and prediction. hΘ(xi)∗(1−hΘ(xi)) is also a scalar and the sensitivity of the activation function. xi is the features for our observation i.δ is then a vector of length 5, 4 features plus a bias unit, corresponding to the gradients. \n",
    " \n",
    " To implement this, we compute δ for each observation, then average to get the average gradient. The average gradient is then used to update the corresponding parameters."
   ]
  },
  {
   "cell_type": "code",
   "execution_count": 72,
   "metadata": {
    "collapsed": true
   },
   "outputs": [],
   "source": [
    "theta_init = np.random.normal(0,0.01,size=(5,1))\n",
    "\n",
    "#store the updates into this array\n",
    "grads = np.zeros(theta_init.shape)\n",
    "\n",
    "n = X.shape[0]\n",
    "for j,obs in enumerate(X):\n",
    "    #compute activation\n",
    "    h = sigmoid_activation(obs,theta_init)\n",
    "    delta = (y[j] - h) * h * (1-h) * obs\n",
    "    #accumulate\n",
    "    grads += delta[:,np.newaxis] / X.shape[0]"
   ]
  },
  {
   "cell_type": "markdown",
   "metadata": {},
   "source": [
    "# Two layer network\n",
    "Now that you can compute the gradients, use gradient descent to learn the parameters and predict the species of iris flower given the 4 features.  Gradient descent minimizes the cost function by adjusting the parameters accordingly. Adjust the parameters by substracting the product of the gradients and the learning rate from the previous parameters. Repeat until the cost function coverges or a maximum number of iterations is reached. "
   ]
  },
  {
   "cell_type": "code",
   "execution_count": 76,
   "metadata": {
    "collapsed": false
   },
   "outputs": [
    {
     "data": {
      "image/png": "[encoded data removed]",
      "text/plain": [
       "<matplotlib.figure.Figure at 0x7f282aad6090>"
      ]
     },
     "metadata": {},
     "output_type": "display_data"
    }
   ],
   "source": [
    "theta_init = np.random.normal(0,0.01,size=(5,1))\n",
    "\n",
    "#set a learning rate\n",
    "learning_rate = 0.1\n",
    "# maximum number of iterations for gradient descent\n",
    "maxepochs = 10000\n",
    "# costs convergence threshold\n",
    "convergence_thres = 0.0001\n",
    "\n",
    "def learn(X,y,theta,learning_rate,maxepochs,convergence_thres):\n",
    "    costs = []\n",
    "    cost = singlecost(X,y,theta) #compute initial cost\n",
    "    costprev = cost + convergence_thres + 0.01 #set an initial costprev to past while loop\n",
    "    counter = 0\n",
    "    #loop through until convergence\n",
    "    for counter in range(maxepochs):\n",
    "        grads = np.zeros(theta.shape)\n",
    "        for j,obs in enumerate(X):\n",
    "            h = sigmoid_activation(obs,theta_init)\n",
    "            delta = (y[j]-h)*h*(1-h)*obs\n",
    "            grads += delta[:,np.newaxis] / float(X.shape[0])\n",
    "        \n",
    "        #update parameters\n",
    "        theta += grads * learning_rate\n",
    "        counter += 1\n",
    "        costprev = cost\n",
    "        cost = singlecost(X,y,theta)\n",
    "        costs.append(cost)\n",
    "        if np.abs(costprev - cost) < convergence_thres:\n",
    "            break\n",
    "\n",
    "    plt.plot(costs)\n",
    "    plt.title('Convergence of the Cost Function')\n",
    "    plt.ylabel('J($\\Theta$)')\n",
    "    plt.xlabel('Iteration')\n",
    "    plt.show()\n",
    "    return theta\n",
    "\n",
    "theta = learn(X,y,theta_init,learning_rate,maxepochs,convergence_thres)"
   ]
  },
  {
   "cell_type": "markdown",
   "metadata": {},
   "source": [
    "# Neural Network\n",
    "Neural networks are usually built using mulitple layers of neurons.Adding more layers into the network allows you to learn more complex functions. Here's a picture representing a 3 layer neural network.図\n",
    "\n",
    "We have a 3 layer neural network with four input variables x1,x2,x3, and x4 and a bias unit. Each variable and bias unit is then sent to four hidden units, a(2)1,a(2)2,a(2)3, and a(2)4. The hidden units have different sets of parameters θ. \n",
    "\n",
    "$$a_1^{(2)} = g(\\theta_{1,0}^{(1)} + \\theta_{1,1}^{(1)} x_1 + \\theta_{1,2}^{(1)} x_2 + \\theta_{1,3}^{(1)} x_3 + \\theta_{1,4}^{(1)} x_4)$$\n",
    "$$a_2^{(2)} = g(\\theta_{2,0}^{(1)} + \\theta_{2,1}^{(1)} x_1 + \\theta_{2,2}^{(1)} x_2 + \\theta_{2,3}^{(1)} x_3 + \\theta_{2,4}^{(1)} x_4)$$\n",
    "$$a_3^{(2)} = g(\\theta_{3,0}^{(1)} + \\theta_{3,1}^{(1)} x_1 + \\theta_{3,2}^{(1)} x_2 + \\theta_{3,3}^{(1)} x_3 + \\theta_{3,4}^{(1)} x_4)$$\n",
    "$$a_4^{(2)} = g(\\theta_{4,0}^{(1)} + \\theta_{4,1}^{(1)} x_1 + \\theta_{4,2}^{(1)} x_2 + \\theta_{4,3}^{(1)} x_3 + \\theta_{4,4}^{(1)} x_4)$$\n",
    "\n",
    "θ(j)i,k represents the parameter of input unit k which transform the units in layer j to activation unit a(j+1)i.\n",
    "\n",
    "This layer is known as a hidden layer because the user does not directly interact with it by passing or retrieving data. The third and final layer is the output, or prediction, of our model. Similar to how each variable was sent to each neuron in the hidden layer, the activation units in each neuron are then sent to each neuron on the next layer. Since there is only a single layer, we can write it as: \n",
    "\n",
    "$$h_{\\Theta}(X) = g(\\theta_{1,0}^{(2)} + \\theta_{1,1}^{(2)} a_1^{(2)} + \\theta_{1,2}^{(2)} a_2^{(2)} + \\theta_{1,3}^{(2)} a_3^{(2)} + \\theta_{1,4}^{(2)} a_4^{(2)})$$\n",
    "\n",
    "While the mathematical notation may seem confusing at first, at a high level, we are organizing multiple logistic regression models to create a more complex function."
   ]
  },
  {
   "cell_type": "code",
   "execution_count": 81,
   "metadata": {
    "collapsed": false
   },
   "outputs": [],
   "source": [
    "theta0_init = np.random.normal(0,0.01,size=(5,4))\n",
    "theta1_init = np.random.normal(0,0.01,size=(5,1))\n",
    "def feedforward(X,theta0,theta1):\n",
    "    #feedforward to the first layer\n",
    "    a1 = sigmoid_activation(X.T,theta0).T\n",
    "    #add a column of ones for bias term\n",
    "    a1 = np.column_stack([np.ones(a1.shape[0]),a1])\n",
    "    #activation units are then inputted to the output layer\n",
    "    out = sigmoid_activation(a1.T,theta1)\n",
    "    return out\n",
    "\n",
    "h = feedforward(X,theta0_init,theta1_init)"
   ]
  },
  {
   "cell_type": "markdown",
   "metadata": {},
   "source": [
    "# Multiple neural network cost function\n",
    "The cost function to multiple layer neural networks is identical to the cost function we used in the last screen, but hΘ(xi) is more complicated. \n",
    "\n",
    "$$J(\\Theta) = -\\dfrac{1}{m} \\sum_{i=1}^m (y_{i} * log(h_{\\Theta}(x_{i}))  +  (1-y_{i}) log(1-h_{\\Theta}(x_i))$$"
   ]
  },
  {
   "cell_type": "code",
   "execution_count": 83,
   "metadata": {
    "collapsed": false
   },
   "outputs": [],
   "source": [
    "theta0_init = np.random.normal(0,0.01,size=(5,4))\n",
    "theta1_init = np.random.normal(0,0.01,size=(5,1))\n",
    "\n",
    "#X and y are in memory and should be used as inputs to multipltcost()\n",
    "def multiplecost(X,theta0,theta1):\n",
    "    h = feedforward(X,theta0,theta1)\n",
    "    inner = (y * np.log(h)) + (1-y) * np.log(1-h)\n",
    "    return -np.mean(inner)\n",
    "\n",
    "c = multiplecost(X,theta0_init,theta1_init)"
   ]
  },
  {
   "cell_type": "markdown",
   "metadata": {},
   "source": [
    "# Backpropagation\n",
    "Now that we have mulitple layers of parameters to learn, we must implement a method called backpropagation.We've already implemented forward propagation by feeding the data through each layer and returning an output. \n",
    "Backpropagation focuses on updating parameters starting at the last layer and circling back through each layer, updating accordingly. As there are multiple layers we are forced to compute $$\\dfrac{\\partial}{\\partial \\Theta_{i,j}^{(l)}} J(\\Theta)$$ where l is the layer. For a three layer network, use the following approach, $$\\delta_j^l \\text{ is the 'error' for unit j in layer l}$$\n",
    "\n",
    "$$\\delta^3 = h_\\Theta(X) - y$$\n",
    "$$\\delta^2 = (\\Theta^{(2)})^T \\delta^3 .* g^{'}(z^{(2)})$$\n",
    "$$\\text{There is no } \\delta^1 \\text{ since the first layer are the features and have no error.}$$\n",
    "\n",
    " You will notice that there are many parameters and moving parts to this algorithm. To make the code more modular, we have refactored our previous code as a class, allowing us to organize related attributes and methods."
   ]
  },
  {
   "cell_type": "code",
   "execution_count": 99,
   "metadata": {
    "collapsed": false
   },
   "outputs": [
    {
     "data": {
      "image/png": "[encoded data removed]",
      "text/plain": [
       "<matplotlib.figure.Figure at 0x7f282ab7a090>"
      ]
     },
     "metadata": {},
     "output_type": "display_data"
    }
   ],
   "source": [
    "class NNet3:\n",
    "    def __init__(self,learning_rate=0.5,maxepochs=1e4,convergence_thres=1e-5,hidden_layer=4):\n",
    "        self.learning_rate = learning_rate\n",
    "        self.maxepochs = int(maxepochs)\n",
    "        self.convergence_thres = 1e-5\n",
    "        self.hidden_layer = int(hidden_layer)\n",
    "        \n",
    "    def _multiplecost(self,X,y):\n",
    "        #feed through network\n",
    "        l1,l2 = self._feedforward(X)\n",
    "        # compute error\n",
    "        inner = y*np.log(l2) + (1-y)*np.log(1-l2)\n",
    "        # neggative of average error\n",
    "        return -np.mean(inner)\n",
    "    \n",
    "    def _feedforward(self,X):\n",
    "        # feedforward to the first_layer\n",
    "        l1 = sigmoid_activation(X.T,self.theta0).T\n",
    "        #add a column of ones for bias\n",
    "        l1 = np.column_stack([np.ones(l1.shape[0]),l1])\n",
    "        # acctivation inits are then inputted to the output layer\n",
    "        l2 = sigmoid_activation(l1.T,self.theta1)\n",
    "        return l1,l2\n",
    "    \n",
    "    def predict(self,X):\n",
    "        _,y = self._feedforward(X)\n",
    "        return y\n",
    "    \n",
    "    def learn(self,X,y):\n",
    "        nobs,ncols = X.shape\n",
    "        self.theta0 = np.random.normal(0,0.01,size=(ncols,self.hidden_layer))\n",
    "        self.theta1 = np.random.normal(0,0.01,size=(self.hidden_layer+1,1))\n",
    "        \n",
    "        self.costs = []\n",
    "        cost = self._multiplecost(X,y)\n",
    "        self.costs.append(cost)\n",
    "        costprev = cost + self.convergence_thres+1 #set an initial costprev to past while loop\n",
    "        counter = 0\n",
    "        \n",
    "        for counter in range(self.maxepochs):\n",
    "            l1,l2 = self._feedforward(X)\n",
    "            \n",
    "            #start backpropagation\n",
    "            #compute gradients\n",
    "            l2_delta = (y-l2)*l2*(1-l2)\n",
    "            l1_delta = l2_delta.T.dot(self.theta1.T) * l1 * (1-l1)\n",
    "            \n",
    "            #Update parameters by averaging gradients and multiplying by the learning rate\n",
    "            self.theta1 += (l1.T.dot(l2_delta.T) / nobs)*self.learning_rate\n",
    "            self.theta0 += (X.T.dot(l1_delta)[:,1:] / nobs)*self.learning_rate\n",
    "            \n",
    "            #store costs and check for convergence\n",
    "            counter += 1\n",
    "            costprev = cost\n",
    "            cost = self._multiplecost(X,y)\n",
    "            self.costs.append(cost)\n",
    "            if np.abs(costprev-cost) < self.convergence_thres and counter > 500:\n",
    "                break\n",
    "    \n",
    "learning_rate = 0.5\n",
    "maxepochs = 10000\n",
    "convergence_thres = 0.00001\n",
    "hidden_units = 4\n",
    "\n",
    "#initialize model\n",
    "model = NNet3(learning_rate=learning_rate,\n",
    "              maxepochs=maxepochs,\n",
    "              convergence_thres=convergence_thres,\n",
    "              hidden_layer=hidden_units)\n",
    "model.learn(X,y)\n",
    "\n",
    "plt.plot(model.costs)\n",
    "plt.title(\"Convergence of the Cost Function\")\n",
    "plt.ylabel(\"J($\\Theta$)\")\n",
    "plt.xlabel(\"Iteration\")\n",
    "plt.show()"
   ]
  },
  {
   "cell_type": "markdown",
   "metadata": {},
   "source": [
    "# Splitting data\n",
    "Now that we have learned about neural networks, learned about backpropagation, and have code which will train a 3-layer neural network, we will split the data into training and test datasets and run the model."
   ]
  },
  {
   "cell_type": "code",
   "execution_count": 100,
   "metadata": {
    "collapsed": true
   },
   "outputs": [],
   "source": [
    "# First 70 rows to X_train and y_train\n",
    "# Last 30 rows to X_train and y_train\n",
    "X_train = X[:70]\n",
    "y_train = y[:70]\n",
    "\n",
    "X_test = X[-30:]\n",
    "y_test = y[-30:]"
   ]
  },
  {
   "cell_type": "markdown",
   "metadata": {},
   "source": [
    "# Predicting iris flowers\n",
    "To benchmark how well a three layer neural network performs when predicting the species of iris flowers, you will have to compute the AUC, area under the curve, score of the receiver operating characteristic. The function NNet3 not only trains the model but also returns the predictions."
   ]
  },
  {
   "cell_type": "code",
   "execution_count": 105,
   "metadata": {
    "collapsed": false
   },
   "outputs": [
    {
     "name": "stdout",
     "output_type": "stream",
     "text": [
      "0.5625\n"
     ]
    }
   ],
   "source": [
    "from sklearn.metrics import roc_auc_score\n",
    "# Set a learning rate\n",
    "learning_rate = 0.5\n",
    "# Maximum number of iterations for gradient descent\n",
    "maxepochs = 10000       \n",
    "# Costs convergence threshold, ie. (prevcost - cost) > convergence_thres\n",
    "convergence_thres = 0.00001  \n",
    "# Number of hidden units\n",
    "hidden_units = 4\n",
    "\n",
    "# Initialize model \n",
    "model = NNet3(learning_rate=learning_rate, maxepochs=maxepochs,\n",
    "              convergence_thres=convergence_thres, hidden_layer=hidden_units)\n",
    "model.learn(X_train,y_train)\n",
    "yhat = model.predict(X_test)[0]\n",
    "\n",
    "auc = roc_auc_score(y_test,yhat)\n",
    "print auc"
   ]
  },
  {
   "cell_type": "code",
   "execution_count": null,
   "metadata": {
    "collapsed": true
   },
   "outputs": [],
   "source": []
  }
 ],
 "metadata": {
  "kernelspec": {
   "display_name": "Python 2",
   "language": "python",
   "name": "python2"
  },
  "language_info": {
   "codemirror_mode": {
    "name": "ipython",
    "version": 2
   },
   "file_extension": ".py",
   "mimetype": "text/x-python",
   "name": "python",
   "nbconvert_exporter": "python",
   "pygments_lexer": "ipython2",
   "version": "2.7.11"
  }
 },
 "nbformat": 4,
 "nbformat_minor": 0
}
