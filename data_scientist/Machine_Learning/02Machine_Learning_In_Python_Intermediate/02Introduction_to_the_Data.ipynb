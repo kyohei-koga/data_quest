{
 "cells": [
  {
   "cell_type": "code",
   "execution_count": 2,
   "metadata": {
    "collapsed": false
   },
   "outputs": [
    {
     "data": {
      "image/png": "[encoded data removed]",
      "text/plain": [
       "<matplotlib.figure.Figure at 0x7f467df23a50>"
      ]
     },
     "metadata": {},
     "output_type": "display_data"
    }
   ],
   "source": [
    "import pandas as pd\n",
    "import matplotlib.pyplot as plt\n",
    "%matplotlib inline\n",
    "\n",
    "pisa = pd.DataFrame({'year':range(1975,1988),\n",
    "                        'lean':[2.9642, 2.9644, 2.9656, 2.9667, 2.9673, 2.9688, 2.9696,\n",
    "                               2.9698, 2.9713, 2.9717, 2.9725, 2.9742, 2.9757]})\n",
    "\n",
    "plt.scatter(pisa['year'],pisa['lean'])\n",
    "plt.show()"
   ]
  },
  {
   "cell_type": "markdown",
   "metadata": {},
   "source": [
    "# Fit the Linear Model\n",
    "Statsmodels is a library which allows for rigorous statistical analysis in python.For linear models, statsmodels provides ample statistical measures for proper evaluation.The class sm.OLS is used to fit linear models, standing for oridinary least squares.\n",
    "\n",
    "OLS() does not automatically add an intercept to our model.We can add a column of 1's to add another coefficient to our model and since the coefficient is multiplied by 1 we are given an intercept."
   ]
  },
  {
   "cell_type": "code",
   "execution_count": 4,
   "metadata": {
    "collapsed": false
   },
   "outputs": [
    {
     "name": "stdout",
     "output_type": "stream",
     "text": [
      "                            OLS Regression Results                            \n",
      "==============================================================================\n",
      "Dep. Variable:                   lean   R-squared:                       0.988\n",
      "Model:                            OLS   Adj. R-squared:                  0.987\n",
      "Method:                 Least Squares   F-statistic:                     904.1\n",
      "Date:                Mon, 11 Jul 2016   Prob (F-statistic):           6.50e-12\n",
      "Time:                        23:06:33   Log-Likelihood:                 83.777\n",
      "No. Observations:                  13   AIC:                            -163.6\n",
      "Df Residuals:                      11   BIC:                            -162.4\n",
      "Df Model:                           1                                         \n",
      "Covariance Type:            nonrobust                                         \n",
      "==============================================================================\n",
      "                 coef    std err          t      P>|t|      [95.0% Conf. Int.]\n",
      "------------------------------------------------------------------------------\n",
      "const          1.1233      0.061     18.297      0.000         0.988     1.258\n",
      "year           0.0009    3.1e-05     30.069      0.000         0.001     0.001\n",
      "==============================================================================\n",
      "Omnibus:                        0.310   Durbin-Watson:                   1.642\n",
      "Prob(Omnibus):                  0.856   Jarque-Bera (JB):                0.450\n",
      "Skew:                           0.094   Prob(JB):                        0.799\n",
      "Kurtosis:                       2.108   Cond. No.                     1.05e+06\n",
      "==============================================================================\n",
      "\n",
      "Warnings:\n",
      "[1] Standard Errors assume that the covariance matrix of the errors is correctly specified.\n",
      "[2] The condition number is large, 1.05e+06. This might indicate that there are\n",
      "strong multicollinearity or other numerical problems.\n"
     ]
    },
    {
     "name": "stderr",
     "output_type": "stream",
     "text": [
      "/home/kyohei/anaconda2/lib/python2.7/site-packages/scipy/stats/stats.py:1557: UserWarning: kurtosistest only valid for n>=20 ... continuing anyway, n=13\n",
      "  \"anyway, n=%i\" % int(n))\n"
     ]
    }
   ],
   "source": [
    "import statsmodels.api as sm\n",
    "\n",
    "y = pisa.lean\n",
    "X = pisa.year\n",
    "X = sm.add_constant(X) #add a column of 1's as the constant term\n",
    "\n",
    "#OLS -- Ordinary Least Square Fit\n",
    "linear = sm.OLS(y,X)\n",
    "linearfit = linear.fit()\n",
    "print(linearfit.summary())"
   ]
  },
  {
   "cell_type": "markdown",
   "metadata": {},
   "source": [
    "# Define a Basic Linear Model\n",
    "We see that the printed summary contains a lot of information about our model.To understand these statistical measures we must start with a formal definition of a basic linear regression model. Mathematically, a basic linear regression model is defined as yi=β0+β1xi+ei where ei∼N(0,σ2) is the error term for each observation i where β0 is the intercept and β1 is the slope. \n",
    "\n",
    "- The residual for the prediction of observation i is ei=yi^−yi where yi^ is the prediction.\n",
    "\n",
    "the model assumes that the errors, known as residuals, between our prediction and observed values are normally distributed and that the average error is 0. Estimated coefficients, those which are modeled, will be refered to as βi^ while βi is the true coefficient which we cannot calculated.\n",
    "\n",
    "In the end, yi^=β0^+β1^xi is the model we will estimate.\n"
   ]
  },
  {
   "cell_type": "code",
   "execution_count": 5,
   "metadata": {
    "collapsed": true
   },
   "outputs": [],
   "source": [
    "yhat = linearfit.predict(X)\n",
    "residuals = yhat - y"
   ]
  },
  {
   "cell_type": "markdown",
   "metadata": {},
   "source": [
    "# Histogram of Residuals\n",
    "We've used histograms in the past to visualize the distribution of our data.If the histogram of residuals look similar to a bell curve then we will accept the assumption of normality.\n",
    "\n",
    "There are more rigorous statistical tests to test for normality which we will cover in future lessons."
   ]
  },
  {
   "cell_type": "code",
   "execution_count": 6,
   "metadata": {
    "collapsed": false
   },
   "outputs": [
    {
     "data": {
      "image/png": "[encoded data removed]",
      "text/plain": [
       "<matplotlib.figure.Figure at 0x7f46972b2e10>"
      ]
     },
     "metadata": {},
     "output_type": "display_data"
    }
   ],
   "source": [
    "plt.hist(residuals,bins=5)\n",
    "plt.show()"
   ]
  },
  {
   "cell_type": "markdown",
   "metadata": {},
   "source": [
    "# Sum of Squares\n",
    "Many of the statistical measures used to evaluate linear regression models rely on three sum of squares measures.The three measures include Sum of Square Error (SSE), Regression Sum of Squares (RSS), and Total Sum of Squares (TSS).In aggregate each of these measures explain the variance of the entire model. We define the measures as the following:\n",
    "\n",
    "- We see that SSE is the sum of all residuals giving us a measure between the model's prediction and the observed values. \n",
    "- RSS measures the amount of explained variance which our model accounts for. \n",
    "\n",
    "For instance, if we were to predict every observation as the mean of the observed values then our model would be useless and RSS would be very low. A large RSS and small SSE can be an indicator of a strong model. \n",
    "- TSS measures the total amount of variation within the data.\n",
    "\n",
    "With some algebra we can show that TSS=RSS+SSE."
   ]
  },
  {
   "cell_type": "code",
   "execution_count": 9,
   "metadata": {
    "collapsed": false
   },
   "outputs": [
    {
     "name": "stdout",
     "output_type": "stream",
     "text": [
      "1.92285714286e-06 0.000158044835165 0.000159967692308\n"
     ]
    }
   ],
   "source": [
    "import numpy as np\n",
    "\n",
    "SSE = np.sum((yhat - y.values)**2.)\n",
    "RSS = np.sum((np.mean(y.values)-yhat)**2.)\n",
    "TSS = np.sum((np.mean(y.values)-y.values)**2)\n",
    "print SSE,RSS,TSS"
   ]
  },
  {
   "cell_type": "markdown",
   "metadata": {},
   "source": [
    "# R-Squared\n",
    "The coefficient of determination, also known as R-Squared, is a great measure of linear dependence. It is a single number which tells us what the percentage of variation in the target variable is explained by our model. \n",
    "\n",
    "Intuitively we know that a low SSE and high RSS indicates a good fit. This single measure tells us what percentage of the total variation of the data our model is accounting for."
   ]
  },
  {
   "cell_type": "code",
   "execution_count": 12,
   "metadata": {
    "collapsed": false
   },
   "outputs": [
    {
     "name": "stdout",
     "output_type": "stream",
     "text": [
      "0.987979715684\n"
     ]
    }
   ],
   "source": [
    "R2 = RSS / TSS\n",
    "print R2"
   ]
  },
  {
   "cell_type": "markdown",
   "metadata": {},
   "source": [
    "# Coefficients of the Linear Model"
   ]
  },
  {
   "cell_type": "code",
   "execution_count": 13,
   "metadata": {
    "collapsed": false
   },
   "outputs": [
    {
     "name": "stdout",
     "output_type": "stream",
     "text": [
      "const    1.123338\n",
      "year     0.000932\n",
      "dtype: float64\n"
     ]
    }
   ],
   "source": [
    "print linearfit.params"
   ]
  },
  {
   "cell_type": "markdown",
   "metadata": {},
   "source": [
    "# Variance of Coefficients\n",
    "The variance of each of the coefficients is an important and powerful measure.In our example the coefficient of year represents the number of meters the tower will lean each year. The variance of this coefficient would then give us an interval of the expected movement for each year. \n",
    "\n",
    "In the summary output, next to each coefficient, you see a column with standard errors. The standard error is the square root of the estimated variance. \n",
    "\n",
    "Analyzing the formula term by term we see that the numerator, SSE, represents the error within the model. A small error in the model will then decrease the coefficient's variance. \n",
    "\n",
    "The denomenator term measures the amount of variance within x. A large variance within the independent variable decreases the coefficient's variance.\n",
    "\n",
    "Using this variance we will be able to compute t-statistics and confidence intervals regarding this β1.\n",
    "\n"
   ]
  },
  {
   "cell_type": "code",
   "execution_count": 16,
   "metadata": {
    "collapsed": false
   },
   "outputs": [
    {
     "name": "stdout",
     "output_type": "stream",
     "text": [
      "9.60468103325e-10\n"
     ]
    }
   ],
   "source": [
    "SSE = np.sum((y.values - yhat)**2)\n",
    "xvar = np.sum((pisa.year-pisa.year.mean())**2)\n",
    "s2b1 = (SSE / float(y.shape[0]-2)) / xvar\n",
    "print s2b1"
   ]
  },
  {
   "cell_type": "markdown",
   "metadata": {},
   "source": [
    "# T-Distribution\n",
    "Statistical tests can be done to show that the lean of the tower is dependent on the year.A common test of statistical signficance is the student t-test.\n",
    "\n",
    "The t-distribution accounts for the number of observations in our sample set while the normal distribution assumes we have the entire population. In general, the smaller the sample we have the less confidence we have in our estimates. The t-distribution takes this into account by increasing the variance relative to the number of observations. You will see that as the number of observations increases the t-distribution approaches the normal distributions. \n",
    "\n",
    "Scipy has a functions in the library scipy.stats.t which can be used to compute the pdf and cdf of the t-distribution for any number of degrees of freedom. "
   ]
  },
  {
   "cell_type": "code",
   "execution_count": 18,
   "metadata": {
    "collapsed": false
   },
   "outputs": [
    {
     "name": "stdout",
     "output_type": "stream",
     "text": [
      "[ 0.02297204  0.02441481  0.02596406  0.02762847  0.0294174   0.031341\n",
      "  0.03341025  0.03563701  0.03803403  0.04061509  0.04339497  0.04638952\n",
      "  0.04961567  0.05309149  0.05683617  0.06086996  0.0652142   0.06989116\n",
      "  0.07492395  0.08033633  0.08615245  0.09239652  0.0990924   0.10626304\n",
      "  0.11392986  0.12211193  0.13082504  0.14008063  0.14988449  0.16023537\n",
      "  0.17112343  0.18252859  0.1944188   0.20674834  0.21945618  0.23246464\n",
      "  0.2456783   0.2589835   0.27224841  0.28532401  0.29804594  0.31023748\n",
      "  0.32171351  0.33228555  0.34176766  0.34998293  0.35677032  0.36199128\n",
      "  0.36553585  0.36732769  0.36732769  0.36553585  0.36199128  0.35677032\n",
      "  0.34998293  0.34176766  0.33228555  0.32171351  0.31023748  0.29804594\n",
      "  0.28532401  0.27224841  0.2589835   0.2456783   0.23246464  0.21945618\n",
      "  0.20674834  0.1944188   0.18252859  0.17112343  0.16023537  0.14988449\n",
      "  0.14008063  0.13082504  0.12211193  0.11392986  0.10626304  0.0990924\n",
      "  0.09239652  0.08615245  0.08033633  0.07492395  0.06989116  0.0652142\n",
      "  0.06086996  0.05683617  0.05309149  0.04961567  0.04638952  0.04339497\n",
      "  0.04061509  0.03803403  0.03563701  0.03341025  0.031341    0.0294174\n",
      "  0.02762847  0.02596406  0.02441481  0.02297204]\n"
     ]
    },
    {
     "data": {
      "image/png": "[encoded data removed]",
      "text/plain": [
       "<matplotlib.figure.Figure at 0x7f467b6b2410>"
      ]
     },
     "metadata": {},
     "output_type": "display_data"
    }
   ],
   "source": [
    "from scipy.stats import t\n",
    "x = np.linspace(-3,3,100)\n",
    "\n",
    "print(t.pdf(x=x,df=3))\n",
    "plt.plot(x,t.pdf(x=x,df=3))\n",
    "plt.show()"
   ]
  },
  {
   "cell_type": "markdown",
   "metadata": {},
   "source": [
    "# Statistical Significance of Coefficients\n",
    "To do significance testing we must first start by stating our hypothesis. We want to test whether the lean of the tower depends on the year, ie. every year the tower leans a certain amount.\n",
    "\n",
    " In our case we will say the null hypothesis is that the lean of the tower of pisa does not depend on the year, meaning the coefficient will be equal to zero.\n",
    " \n",
    " Testing the null hypothesis is done by using the t-distribution. The t-statistic is defined as, \n",
    " \n",
    " This statistic measures how many standard deviations the expected coefficient is from 0. If β1 is far from zero with a low variance then t will be very high. We see from the pdf, a t-statistic far from zero will have a very low probability."
   ]
  },
  {
   "cell_type": "code",
   "execution_count": 20,
   "metadata": {
    "collapsed": false
   },
   "outputs": [
    {
     "name": "stdout",
     "output_type": "stream",
     "text": [
      "30.0685846877\n"
     ]
    }
   ],
   "source": [
    "tstat = linearfit.params['year'] / np.sqrt(s2b1)\n",
    "print tstat"
   ]
  },
  {
   "cell_type": "markdown",
   "metadata": {},
   "source": [
    "# The P-Value\n",
    "Finally, now that we've computed the t-statistic we can test our coefficient.we need to find the probability of β1 being different than 0 at some significance level.Lets use the 95% significance level, meaning that we are 95% certian that β1 differs from zero.\n",
    "\n",
    "If probability is greater than 0.975 than we can reject the null hypothesis (H0) and say that the year significantly affects the lean of the tower. "
   ]
  },
  {
   "cell_type": "code",
   "execution_count": 24,
   "metadata": {
    "collapsed": false
   },
   "outputs": [
    {
     "name": "stdout",
     "output_type": "stream",
     "text": [
      "True\n"
     ]
    }
   ],
   "source": [
    "pval = 0.975\n",
    "\n",
    "df = pisa.shape[0] - 2\n",
    "\n",
    "p = t.cdf(tstat,df=df)\n",
    "if p>pval:\n",
    "    beta1_test = True\n",
    "else:\n",
    "    beta1_test = False\n",
    "\n",
    "print beta1_test"
   ]
  },
  {
   "cell_type": "markdown",
   "metadata": {},
   "source": [
    "# Conclusion\n",
    "The assumption of normality is very important in rigorous statistical analysis. This assumption allows each of these statistical tests to be valid. If the assumption is rejected than a different model may be in order. \n",
    "\n",
    "R-squared is a very powerful measure but it is often over used. A low R-squared value does not necessarily mean that there is no dependency between the variables. For instance, if y=sin(x) the r-square would equal 0 but there is certianly a relationship. A high r-squared value does not necessarily mean that the model is good a predicting future events because it does not account for the number of observations seen. "
   ]
  },
  {
   "cell_type": "code",
   "execution_count": null,
   "metadata": {
    "collapsed": true
   },
   "outputs": [],
   "source": []
  }
 ],
 "metadata": {
  "kernelspec": {
   "display_name": "Python 2",
   "language": "python",
   "name": "python2"
  },
  "language_info": {
   "codemirror_mode": {
    "name": "ipython",
    "version": 2
   },
   "file_extension": ".py",
   "mimetype": "text/x-python",
   "name": "python",
   "nbconvert_exporter": "python",
   "pygments_lexer": "ipython2",
   "version": "2.7.11"
  }
 },
 "nbformat": 4,
 "nbformat_minor": 0
}
