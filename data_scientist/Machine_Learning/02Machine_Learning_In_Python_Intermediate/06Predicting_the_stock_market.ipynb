{
 "cells": [
  {
   "cell_type": "markdown",
   "metadata": {},
   "source": [
    "You'll be using this dataset to develop a predictive model. You'll train the model with data from 1950-2012, and try to make predictions from 2013-2015."
   ]
  },
  {
   "cell_type": "code",
   "execution_count": 24,
   "metadata": {
    "collapsed": false
   },
   "outputs": [],
   "source": [
    "import pandas as pd\n",
    "from datetime import datetime\n",
    "\n",
    "sphist = pd.read_csv('sphist.csv')\n",
    "#Convert the Date column to a Pandas date type.\n",
    "sphist['Date'] = pd.to_datetime(sphist['Date'])\n",
    "#print sphist['Date'] > datetime(year=2015,month=4,day=1)\n",
    "sphist = sphist.sort_values('Date',ascending=True)"
   ]
  },
  {
   "cell_type": "markdown",
   "metadata": {},
   "source": [
    "Stock market data is sequential, and each observation comes a day after the previous observation. Thus, the observations are not all independent, and you can't treat them as such.This means you have to be extra careful to not inject \"future\" knowledge into past rows when you do training and prediction. \n",
    "\n",
    "Injecting future knowledge will make our model look good when you're training and testing it, but will make it fail in the real world. This is how many algorithmic traders lose money.\n",
    "\n",
    "The time series nature of the data means that can generate indicators to make our model more accurate. \n",
    "\n",
    "When you do this, you have to be careful not to use the current row in the values you average.\n",
    "\n",
    "Here are some indicators that are interesting to generate for each row:\n",
    "- The average price from the past 5 days.\n",
    "- The average price for the past 30 days.\n",
    "- The average price for the past 365 days.\n",
    "- The ratio between the average price for the past 5 days, and the average price for the past 365 days.\n",
    "- The standard deviation of the price over the past 5 days.\n",
    "- The standard deviation of the price over the past 365 days.\n",
    "- The ratio between the standard deviation for the past 5 days, and the standard deviation for the past 365 days."
   ]
  },
  {
   "cell_type": "code",
   "execution_count": 25,
   "metadata": {
    "collapsed": false
   },
   "outputs": [
    {
     "data": {
      "text/plain": [
       "Index([u'Date', u'Open', u'High', u'Low', u'Close', u'Volume',\n",
       "       u'Adjusted Close'],\n",
       "      dtype='object')"
      ]
     },
     "execution_count": 25,
     "metadata": {},
     "output_type": "execute_result"
    }
   ],
   "source": [
    "sphist.columns"
   ]
  },
  {
   "cell_type": "code",
   "execution_count": 26,
   "metadata": {
    "collapsed": false
   },
   "outputs": [
    {
     "name": "stderr",
     "output_type": "stream",
     "text": [
      "/home/kyohei/anaconda2/lib/python2.7/site-packages/ipykernel/__main__.py:1: FutureWarning: pd.rolling_mean is deprecated for Series and will be removed in a future version, replace with \n",
      "\tSeries.rolling(window=5,center=False).mean()\n",
      "  if __name__ == '__main__':\n",
      "/home/kyohei/anaconda2/lib/python2.7/site-packages/ipykernel/__main__.py:2: FutureWarning: pd.rolling_std is deprecated for Series and will be removed in a future version, replace with \n",
      "\tSeries.rolling(window=5,center=False).std()\n",
      "  from ipykernel import kernelapp as app\n",
      "/home/kyohei/anaconda2/lib/python2.7/site-packages/ipykernel/__main__.py:3: FutureWarning: pd.rolling_mean is deprecated for Series and will be removed in a future version, replace with \n",
      "\tSeries.rolling(window=365,center=False).mean()\n",
      "  app.launch_new_instance()\n"
     ]
    }
   ],
   "source": [
    "sphist['day_5_av'] = pd.rolling_mean(sphist.shift()['Close'],window=5)\n",
    "sphist['day_5_std'] = pd.rolling_std(sphist.shift()['Close'],window=5)\n",
    "sphist['avratio_5_365'] = sphist['day_5_av'] / pd.rolling_mean(sphist.shift()['Close'],window=365)"
   ]
  },
  {
   "cell_type": "code",
   "execution_count": 28,
   "metadata": {
    "collapsed": false
   },
   "outputs": [],
   "source": [
    "sphist = sphist[sphist['Date']>datetime(year=1951,month=1,day=3)]\n",
    "sphist = sphist.dropna(axis=0)"
   ]
  },
  {
   "cell_type": "code",
   "execution_count": 30,
   "metadata": {
    "collapsed": false
   },
   "outputs": [],
   "source": [
    "train = sphist[sphist['Date'] < datetime(year=2013,month=1,day=1)]\n",
    "test = sphist[sphist['Date'] >= datetime(year=2013,month=1,day=1)]"
   ]
  },
  {
   "cell_type": "markdown",
   "metadata": {},
   "source": [
    "# Making predictions\n",
    "It's recommended to use Mean Absolute Error, also called MAE, as an error metric, because it will show you how \"close\" you were to the price in intuitive terms. Mean Squared Error, or MSE, is an alternative that is more commonly used, but makes it harder to intuitively tell how far off you are from the true price because it squares the error."
   ]
  },
  {
   "cell_type": "code",
   "execution_count": 58,
   "metadata": {
    "collapsed": false
   },
   "outputs": [],
   "source": [
    "from sklearn.linear_model import LinearRegression\n",
    "import numpy as np\n",
    "\n",
    "model = LinearRegression()\n",
    "model.fit(train[['day_5_av',]],train['Close'])\n",
    "predict = model.predict(test[['day_5_av']])\n",
    "abs_error = np.mean(abs(test['Close']-predict))\n",
    "ms_error = np.mean((test['Close']-predict)**2)"
   ]
  },
  {
   "cell_type": "code",
   "execution_count": 59,
   "metadata": {
    "collapsed": false
   },
   "outputs": [
    {
     "name": "stdout",
     "output_type": "stream",
     "text": [
      "17.2662765712 542.49687219\n"
     ]
    }
   ],
   "source": [
    "print abs_error,ms_error"
   ]
  },
  {
   "cell_type": "markdown",
   "metadata": {},
   "source": [
    "# Improving error\n",
    "You can improve the error of this model significantly, though. Think about some indicators that might be helpful to compute.Here are some ideas that might be helpful:\n",
    "- The average volume over the past five days.\n",
    "- The average volume over the past year.\n",
    "- The ratio between the average volume for the past five days, and the average volume for the past year.\n",
    "- The standard deviation of the average volume over the past five days.\n",
    "- The standard deviation of the average volume over the past year.\n",
    "- The ratio between the standard deviation of the average volume for the past five days, and the standard deviation of the average volume for the past year.\n",
    "- The year component of the date.\n",
    "- The ratio between the lowest price in the past year and the current price.\n",
    "- The ratio between the highest price in the past year and the current price.\n",
    "- The year component of the date.\n",
    "- The month component of the date.\n",
    "- The day of week\n",
    "- The day component of the date.\n",
    "- The number of holidays in the prior month.\n",
    "Add 2 additional indicators to your dataframe, and see if the error is reduced. You'll need to insert these indicators at the same point where you insert the others, before you clean out rows with NaN values and split the dataframe into train and `test."
   ]
  },
  {
   "cell_type": "code",
   "execution_count": 56,
   "metadata": {
    "collapsed": true
   },
   "outputs": [],
   "source": [
    "model = LinearRegression()\n",
    "model.fit(train[['day_5_av','day_5_std']],train['Close'])\n",
    "predict = model.predict(test[['day_5_av','day_5_std']])\n",
    "abs_error = np.mean(abs(test['Close']-predict))\n",
    "ms_error = np.mean((test['Close']-predict)**2)"
   ]
  },
  {
   "cell_type": "code",
   "execution_count": 57,
   "metadata": {
    "collapsed": false
   },
   "outputs": [
    {
     "name": "stdout",
     "output_type": "stream",
     "text": [
      "17.1342523324 538.074649926\n"
     ]
    }
   ],
   "source": [
    "print abs_error,ms_error"
   ]
  }
 ],
 "metadata": {
  "kernelspec": {
   "display_name": "Python 2",
   "language": "python",
   "name": "python2"
  },
  "language_info": {
   "codemirror_mode": {
    "name": "ipython",
    "version": 2
   },
   "file_extension": ".py",
   "mimetype": "text/x-python",
   "name": "python",
   "nbconvert_exporter": "python",
   "pygments_lexer": "ipython2",
   "version": "2.7.11"
  }
 },
 "nbformat": 4,
 "nbformat_minor": 0
}
